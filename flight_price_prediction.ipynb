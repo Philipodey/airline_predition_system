{
 "cells": [
  {
   "cell_type": "code",
   "execution_count": 102,
   "metadata": {
    "collapsed": true,
    "ExecuteTime": {
     "end_time": "2024-10-14T09:01:12.710123500Z",
     "start_time": "2024-10-14T09:01:12.697276700Z"
    }
   },
   "outputs": [],
   "source": [
    "import pandas as pd\n",
    "import seaborn as sns\n",
    "import matplotlib.pyplot as plt\n",
    "from sklearn.preprocessing import OneHotEncoder\n"
   ]
  },
  {
   "cell_type": "code",
   "execution_count": 103,
   "outputs": [],
   "source": [
    "train_data = pd.read_csv(\"flight_dataset.csv\")"
   ],
   "metadata": {
    "collapsed": false,
    "ExecuteTime": {
     "end_time": "2024-10-14T09:01:14.075132500Z",
     "start_time": "2024-10-14T09:01:13.125821500Z"
    }
   }
  },
  {
   "cell_type": "code",
   "execution_count": 104,
   "outputs": [],
   "source": [
    "pd.set_option(\"display.max_columns\", None)"
   ],
   "metadata": {
    "collapsed": false,
    "ExecuteTime": {
     "end_time": "2024-10-14T09:01:14.093624400Z",
     "start_time": "2024-10-14T09:01:14.078133500Z"
    }
   }
  },
  {
   "cell_type": "code",
   "execution_count": 105,
   "outputs": [
    {
     "data": {
      "text/plain": "   Unnamed: 0   airline   flight source_city departure_time stops  \\\n0           0  SpiceJet  SG-8709       Delhi        Evening  zero   \n1           1  SpiceJet  SG-8157       Delhi  Early_Morning  zero   \n2           2   AirAsia   I5-764       Delhi  Early_Morning  zero   \n3           3   Vistara   UK-995       Delhi        Morning  zero   \n4           4   Vistara   UK-963       Delhi        Morning  zero   \n\n    arrival_time destination_city    class  duration  days_left  price  \n0          Night           Mumbai  Economy      2.17          1   5953  \n1        Morning           Mumbai  Economy      2.33          1   5953  \n2  Early_Morning           Mumbai  Economy      2.17          1   5956  \n3      Afternoon           Mumbai  Economy      2.25          1   5955  \n4        Morning           Mumbai  Economy      2.33          1   5955  ",
      "text/html": "<div>\n<style scoped>\n    .dataframe tbody tr th:only-of-type {\n        vertical-align: middle;\n    }\n\n    .dataframe tbody tr th {\n        vertical-align: top;\n    }\n\n    .dataframe thead th {\n        text-align: right;\n    }\n</style>\n<table border=\"1\" class=\"dataframe\">\n  <thead>\n    <tr style=\"text-align: right;\">\n      <th></th>\n      <th>Unnamed: 0</th>\n      <th>airline</th>\n      <th>flight</th>\n      <th>source_city</th>\n      <th>departure_time</th>\n      <th>stops</th>\n      <th>arrival_time</th>\n      <th>destination_city</th>\n      <th>class</th>\n      <th>duration</th>\n      <th>days_left</th>\n      <th>price</th>\n    </tr>\n  </thead>\n  <tbody>\n    <tr>\n      <th>0</th>\n      <td>0</td>\n      <td>SpiceJet</td>\n      <td>SG-8709</td>\n      <td>Delhi</td>\n      <td>Evening</td>\n      <td>zero</td>\n      <td>Night</td>\n      <td>Mumbai</td>\n      <td>Economy</td>\n      <td>2.17</td>\n      <td>1</td>\n      <td>5953</td>\n    </tr>\n    <tr>\n      <th>1</th>\n      <td>1</td>\n      <td>SpiceJet</td>\n      <td>SG-8157</td>\n      <td>Delhi</td>\n      <td>Early_Morning</td>\n      <td>zero</td>\n      <td>Morning</td>\n      <td>Mumbai</td>\n      <td>Economy</td>\n      <td>2.33</td>\n      <td>1</td>\n      <td>5953</td>\n    </tr>\n    <tr>\n      <th>2</th>\n      <td>2</td>\n      <td>AirAsia</td>\n      <td>I5-764</td>\n      <td>Delhi</td>\n      <td>Early_Morning</td>\n      <td>zero</td>\n      <td>Early_Morning</td>\n      <td>Mumbai</td>\n      <td>Economy</td>\n      <td>2.17</td>\n      <td>1</td>\n      <td>5956</td>\n    </tr>\n    <tr>\n      <th>3</th>\n      <td>3</td>\n      <td>Vistara</td>\n      <td>UK-995</td>\n      <td>Delhi</td>\n      <td>Morning</td>\n      <td>zero</td>\n      <td>Afternoon</td>\n      <td>Mumbai</td>\n      <td>Economy</td>\n      <td>2.25</td>\n      <td>1</td>\n      <td>5955</td>\n    </tr>\n    <tr>\n      <th>4</th>\n      <td>4</td>\n      <td>Vistara</td>\n      <td>UK-963</td>\n      <td>Delhi</td>\n      <td>Morning</td>\n      <td>zero</td>\n      <td>Morning</td>\n      <td>Mumbai</td>\n      <td>Economy</td>\n      <td>2.33</td>\n      <td>1</td>\n      <td>5955</td>\n    </tr>\n  </tbody>\n</table>\n</div>"
     },
     "execution_count": 105,
     "metadata": {},
     "output_type": "execute_result"
    }
   ],
   "source": [
    "train_data.head()"
   ],
   "metadata": {
    "collapsed": false,
    "ExecuteTime": {
     "end_time": "2024-10-14T09:01:14.629743600Z",
     "start_time": "2024-10-14T09:01:14.575839800Z"
    }
   }
  },
  {
   "cell_type": "code",
   "execution_count": 106,
   "outputs": [
    {
     "name": "stdout",
     "output_type": "stream",
     "text": [
      "<class 'pandas.core.frame.DataFrame'>\n",
      "RangeIndex: 300153 entries, 0 to 300152\n",
      "Data columns (total 12 columns):\n",
      " #   Column            Non-Null Count   Dtype  \n",
      "---  ------            --------------   -----  \n",
      " 0   Unnamed: 0        300153 non-null  int64  \n",
      " 1   airline           300153 non-null  object \n",
      " 2   flight            300153 non-null  object \n",
      " 3   source_city       300153 non-null  object \n",
      " 4   departure_time    300153 non-null  object \n",
      " 5   stops             300153 non-null  object \n",
      " 6   arrival_time      300153 non-null  object \n",
      " 7   destination_city  300153 non-null  object \n",
      " 8   class             300153 non-null  object \n",
      " 9   duration          300153 non-null  float64\n",
      " 10  days_left         300153 non-null  int64  \n",
      " 11  price             300153 non-null  int64  \n",
      "dtypes: float64(1), int64(3), object(8)\n",
      "memory usage: 27.5+ MB\n"
     ]
    }
   ],
   "source": [
    "train_data.info()"
   ],
   "metadata": {
    "collapsed": false,
    "ExecuteTime": {
     "end_time": "2024-10-14T09:01:15.839905400Z",
     "start_time": "2024-10-14T09:01:15.626113100Z"
    }
   }
  },
  {
   "cell_type": "code",
   "execution_count": 107,
   "outputs": [],
   "source": [
    "df = pd.read_csv(\"flight_dataset.csv\", index_col=0)"
   ],
   "metadata": {
    "collapsed": false,
    "ExecuteTime": {
     "end_time": "2024-10-14T09:01:17.319021100Z",
     "start_time": "2024-10-14T09:01:16.506202500Z"
    }
   }
  },
  {
   "cell_type": "code",
   "execution_count": 108,
   "outputs": [
    {
     "name": "stdout",
     "output_type": "stream",
     "text": [
      "<class 'pandas.core.frame.DataFrame'>\n",
      "Index: 300153 entries, 0 to 300152\n",
      "Data columns (total 11 columns):\n",
      " #   Column            Non-Null Count   Dtype  \n",
      "---  ------            --------------   -----  \n",
      " 0   airline           300153 non-null  object \n",
      " 1   flight            300153 non-null  object \n",
      " 2   source_city       300153 non-null  object \n",
      " 3   departure_time    300153 non-null  object \n",
      " 4   stops             300153 non-null  object \n",
      " 5   arrival_time      300153 non-null  object \n",
      " 6   destination_city  300153 non-null  object \n",
      " 7   class             300153 non-null  object \n",
      " 8   duration          300153 non-null  float64\n",
      " 9   days_left         300153 non-null  int64  \n",
      " 10  price             300153 non-null  int64  \n",
      "dtypes: float64(1), int64(2), object(8)\n",
      "memory usage: 27.5+ MB\n"
     ]
    }
   ],
   "source": [
    "df.info()"
   ],
   "metadata": {
    "collapsed": false,
    "ExecuteTime": {
     "end_time": "2024-10-14T09:01:17.541375100Z",
     "start_time": "2024-10-14T09:01:17.308984600Z"
    }
   }
  },
  {
   "cell_type": "code",
   "execution_count": 109,
   "outputs": [
    {
     "data": {
      "text/plain": "airline             0\nflight              0\nsource_city         0\ndeparture_time      0\nstops               0\narrival_time        0\ndestination_city    0\nclass               0\nduration            0\ndays_left           0\nprice               0\ndtype: int64"
     },
     "execution_count": 109,
     "metadata": {},
     "output_type": "execute_result"
    }
   ],
   "source": [
    "df.isnull().sum()"
   ],
   "metadata": {
    "collapsed": false,
    "ExecuteTime": {
     "end_time": "2024-10-14T09:01:18.132167100Z",
     "start_time": "2024-10-14T09:01:17.875588800Z"
    }
   }
  },
  {
   "cell_type": "code",
   "execution_count": 110,
   "outputs": [
    {
     "data": {
      "text/plain": "(300153, 11)"
     },
     "execution_count": 110,
     "metadata": {},
     "output_type": "execute_result"
    }
   ],
   "source": [
    "df.shape"
   ],
   "metadata": {
    "collapsed": false,
    "ExecuteTime": {
     "end_time": "2024-10-14T09:01:19.161333100Z",
     "start_time": "2024-10-14T09:01:19.143201500Z"
    }
   }
  },
  {
   "cell_type": "code",
   "execution_count": 111,
   "outputs": [],
   "source": [
    "df = df.rename(columns={'class': 'flight_class'})"
   ],
   "metadata": {
    "collapsed": false,
    "ExecuteTime": {
     "end_time": "2024-10-14T09:01:22.646172800Z",
     "start_time": "2024-10-14T09:01:22.617213900Z"
    }
   }
  },
  {
   "cell_type": "code",
   "execution_count": 112,
   "outputs": [
    {
     "data": {
      "text/plain": "airline\nVistara      127859\nAir_India     80892\nIndigo        43120\nGO_FIRST      23173\nAirAsia       16098\nSpiceJet       9011\nName: count, dtype: int64"
     },
     "execution_count": 112,
     "metadata": {},
     "output_type": "execute_result"
    }
   ],
   "source": [
    "df['airline'].value_counts()"
   ],
   "metadata": {
    "collapsed": false,
    "ExecuteTime": {
     "end_time": "2024-10-14T09:01:23.550157300Z",
     "start_time": "2024-10-14T09:01:23.448389600Z"
    }
   }
  },
  {
   "cell_type": "code",
   "execution_count": 113,
   "outputs": [
    {
     "data": {
      "text/plain": "destination_city\nMumbai       59097\nDelhi        57360\nBangalore    51068\nKolkata      49534\nHyderabad    42726\nChennai      40368\nName: count, dtype: int64"
     },
     "execution_count": 113,
     "metadata": {},
     "output_type": "execute_result"
    }
   ],
   "source": [
    "df.destination_city.value_counts()"
   ],
   "metadata": {
    "collapsed": false,
    "ExecuteTime": {
     "end_time": "2024-10-14T09:01:24.442063600Z",
     "start_time": "2024-10-14T09:01:24.354247300Z"
    }
   }
  },
  {
   "cell_type": "code",
   "execution_count": 114,
   "outputs": [
    {
     "data": {
      "text/plain": "source_city\nDelhi        61343\nMumbai       60896\nBangalore    52061\nKolkata      46347\nHyderabad    40806\nChennai      38700\nName: count, dtype: int64"
     },
     "execution_count": 114,
     "metadata": {},
     "output_type": "execute_result"
    }
   ],
   "source": [
    "df['source_city'].value_counts()"
   ],
   "metadata": {
    "collapsed": false,
    "ExecuteTime": {
     "end_time": "2024-10-14T09:01:25.466315700Z",
     "start_time": "2024-10-14T09:01:25.320767200Z"
    }
   }
  },
  {
   "cell_type": "markdown",
   "source": [
    "Preprocessing"
   ],
   "metadata": {
    "collapsed": false
   }
  },
  {
   "cell_type": "code",
   "execution_count": 115,
   "outputs": [
    {
     "data": {
      "text/plain": "Index(['airline', 'flight', 'source_city', 'departure_time', 'stops',\n       'arrival_time', 'destination_city', 'flight_class', 'duration',\n       'days_left', 'price'],\n      dtype='object')"
     },
     "execution_count": 115,
     "metadata": {},
     "output_type": "execute_result"
    }
   ],
   "source": [
    "df.columns"
   ],
   "metadata": {
    "collapsed": false,
    "ExecuteTime": {
     "end_time": "2024-10-14T09:01:32.461233700Z",
     "start_time": "2024-10-14T09:01:32.426431600Z"
    }
   }
  },
  {
   "cell_type": "code",
   "execution_count": 116,
   "outputs": [
    {
     "data": {
      "text/plain": "         airline   flight source_city departure_time stops   arrival_time  \\\n0       SpiceJet  SG-8709       Delhi        Evening  zero          Night   \n1       SpiceJet  SG-8157       Delhi  Early_Morning  zero        Morning   \n2        AirAsia   I5-764       Delhi  Early_Morning  zero  Early_Morning   \n3        Vistara   UK-995       Delhi        Morning  zero      Afternoon   \n4        Vistara   UK-963       Delhi        Morning  zero        Morning   \n...          ...      ...         ...            ...   ...            ...   \n300148   Vistara   UK-822     Chennai        Morning   one        Evening   \n300149   Vistara   UK-826     Chennai      Afternoon   one          Night   \n300150   Vistara   UK-832     Chennai  Early_Morning   one          Night   \n300151   Vistara   UK-828     Chennai  Early_Morning   one        Evening   \n300152   Vistara   UK-822     Chennai        Morning   one        Evening   \n\n       destination_city flight_class  duration  days_left  price  \n0                Mumbai      Economy      2.17          1   5953  \n1                Mumbai      Economy      2.33          1   5953  \n2                Mumbai      Economy      2.17          1   5956  \n3                Mumbai      Economy      2.25          1   5955  \n4                Mumbai      Economy      2.33          1   5955  \n...                 ...          ...       ...        ...    ...  \n300148        Hyderabad     Business     10.08         49  69265  \n300149        Hyderabad     Business     10.42         49  77105  \n300150        Hyderabad     Business     13.83         49  79099  \n300151        Hyderabad     Business     10.00         49  81585  \n300152        Hyderabad     Business     10.08         49  81585  \n\n[300153 rows x 11 columns]",
      "text/html": "<div>\n<style scoped>\n    .dataframe tbody tr th:only-of-type {\n        vertical-align: middle;\n    }\n\n    .dataframe tbody tr th {\n        vertical-align: top;\n    }\n\n    .dataframe thead th {\n        text-align: right;\n    }\n</style>\n<table border=\"1\" class=\"dataframe\">\n  <thead>\n    <tr style=\"text-align: right;\">\n      <th></th>\n      <th>airline</th>\n      <th>flight</th>\n      <th>source_city</th>\n      <th>departure_time</th>\n      <th>stops</th>\n      <th>arrival_time</th>\n      <th>destination_city</th>\n      <th>flight_class</th>\n      <th>duration</th>\n      <th>days_left</th>\n      <th>price</th>\n    </tr>\n  </thead>\n  <tbody>\n    <tr>\n      <th>0</th>\n      <td>SpiceJet</td>\n      <td>SG-8709</td>\n      <td>Delhi</td>\n      <td>Evening</td>\n      <td>zero</td>\n      <td>Night</td>\n      <td>Mumbai</td>\n      <td>Economy</td>\n      <td>2.17</td>\n      <td>1</td>\n      <td>5953</td>\n    </tr>\n    <tr>\n      <th>1</th>\n      <td>SpiceJet</td>\n      <td>SG-8157</td>\n      <td>Delhi</td>\n      <td>Early_Morning</td>\n      <td>zero</td>\n      <td>Morning</td>\n      <td>Mumbai</td>\n      <td>Economy</td>\n      <td>2.33</td>\n      <td>1</td>\n      <td>5953</td>\n    </tr>\n    <tr>\n      <th>2</th>\n      <td>AirAsia</td>\n      <td>I5-764</td>\n      <td>Delhi</td>\n      <td>Early_Morning</td>\n      <td>zero</td>\n      <td>Early_Morning</td>\n      <td>Mumbai</td>\n      <td>Economy</td>\n      <td>2.17</td>\n      <td>1</td>\n      <td>5956</td>\n    </tr>\n    <tr>\n      <th>3</th>\n      <td>Vistara</td>\n      <td>UK-995</td>\n      <td>Delhi</td>\n      <td>Morning</td>\n      <td>zero</td>\n      <td>Afternoon</td>\n      <td>Mumbai</td>\n      <td>Economy</td>\n      <td>2.25</td>\n      <td>1</td>\n      <td>5955</td>\n    </tr>\n    <tr>\n      <th>4</th>\n      <td>Vistara</td>\n      <td>UK-963</td>\n      <td>Delhi</td>\n      <td>Morning</td>\n      <td>zero</td>\n      <td>Morning</td>\n      <td>Mumbai</td>\n      <td>Economy</td>\n      <td>2.33</td>\n      <td>1</td>\n      <td>5955</td>\n    </tr>\n    <tr>\n      <th>...</th>\n      <td>...</td>\n      <td>...</td>\n      <td>...</td>\n      <td>...</td>\n      <td>...</td>\n      <td>...</td>\n      <td>...</td>\n      <td>...</td>\n      <td>...</td>\n      <td>...</td>\n      <td>...</td>\n    </tr>\n    <tr>\n      <th>300148</th>\n      <td>Vistara</td>\n      <td>UK-822</td>\n      <td>Chennai</td>\n      <td>Morning</td>\n      <td>one</td>\n      <td>Evening</td>\n      <td>Hyderabad</td>\n      <td>Business</td>\n      <td>10.08</td>\n      <td>49</td>\n      <td>69265</td>\n    </tr>\n    <tr>\n      <th>300149</th>\n      <td>Vistara</td>\n      <td>UK-826</td>\n      <td>Chennai</td>\n      <td>Afternoon</td>\n      <td>one</td>\n      <td>Night</td>\n      <td>Hyderabad</td>\n      <td>Business</td>\n      <td>10.42</td>\n      <td>49</td>\n      <td>77105</td>\n    </tr>\n    <tr>\n      <th>300150</th>\n      <td>Vistara</td>\n      <td>UK-832</td>\n      <td>Chennai</td>\n      <td>Early_Morning</td>\n      <td>one</td>\n      <td>Night</td>\n      <td>Hyderabad</td>\n      <td>Business</td>\n      <td>13.83</td>\n      <td>49</td>\n      <td>79099</td>\n    </tr>\n    <tr>\n      <th>300151</th>\n      <td>Vistara</td>\n      <td>UK-828</td>\n      <td>Chennai</td>\n      <td>Early_Morning</td>\n      <td>one</td>\n      <td>Evening</td>\n      <td>Hyderabad</td>\n      <td>Business</td>\n      <td>10.00</td>\n      <td>49</td>\n      <td>81585</td>\n    </tr>\n    <tr>\n      <th>300152</th>\n      <td>Vistara</td>\n      <td>UK-822</td>\n      <td>Chennai</td>\n      <td>Morning</td>\n      <td>one</td>\n      <td>Evening</td>\n      <td>Hyderabad</td>\n      <td>Business</td>\n      <td>10.08</td>\n      <td>49</td>\n      <td>81585</td>\n    </tr>\n  </tbody>\n</table>\n<p>300153 rows × 11 columns</p>\n</div>"
     },
     "execution_count": 116,
     "metadata": {},
     "output_type": "execute_result"
    }
   ],
   "source": [
    "df"
   ],
   "metadata": {
    "collapsed": false,
    "ExecuteTime": {
     "end_time": "2024-10-14T09:01:34.035205600Z",
     "start_time": "2024-10-14T09:01:33.916356700Z"
    }
   }
  },
  {
   "cell_type": "code",
   "execution_count": 117,
   "outputs": [],
   "source": [
    "df = df.drop(\"flight\", axis=1)\n",
    "\n",
    "# df['flight_class'] = df['flight_class'].apply(lambda x: 1 if x == \"Business\" else 0)"
   ],
   "metadata": {
    "collapsed": false,
    "ExecuteTime": {
     "end_time": "2024-10-14T09:01:37.729066400Z",
     "start_time": "2024-10-14T09:01:37.669089100Z"
    }
   }
  },
  {
   "cell_type": "code",
   "execution_count": 118,
   "outputs": [
    {
     "data": {
      "text/plain": "         airline source_city departure_time stops   arrival_time  \\\n0       SpiceJet       Delhi        Evening  zero          Night   \n1       SpiceJet       Delhi  Early_Morning  zero        Morning   \n2        AirAsia       Delhi  Early_Morning  zero  Early_Morning   \n3        Vistara       Delhi        Morning  zero      Afternoon   \n4        Vistara       Delhi        Morning  zero        Morning   \n...          ...         ...            ...   ...            ...   \n300148   Vistara     Chennai        Morning   one        Evening   \n300149   Vistara     Chennai      Afternoon   one          Night   \n300150   Vistara     Chennai  Early_Morning   one          Night   \n300151   Vistara     Chennai  Early_Morning   one        Evening   \n300152   Vistara     Chennai        Morning   one        Evening   \n\n       destination_city flight_class  duration  days_left  price  \n0                Mumbai      Economy      2.17          1   5953  \n1                Mumbai      Economy      2.33          1   5953  \n2                Mumbai      Economy      2.17          1   5956  \n3                Mumbai      Economy      2.25          1   5955  \n4                Mumbai      Economy      2.33          1   5955  \n...                 ...          ...       ...        ...    ...  \n300148        Hyderabad     Business     10.08         49  69265  \n300149        Hyderabad     Business     10.42         49  77105  \n300150        Hyderabad     Business     13.83         49  79099  \n300151        Hyderabad     Business     10.00         49  81585  \n300152        Hyderabad     Business     10.08         49  81585  \n\n[300153 rows x 10 columns]",
      "text/html": "<div>\n<style scoped>\n    .dataframe tbody tr th:only-of-type {\n        vertical-align: middle;\n    }\n\n    .dataframe tbody tr th {\n        vertical-align: top;\n    }\n\n    .dataframe thead th {\n        text-align: right;\n    }\n</style>\n<table border=\"1\" class=\"dataframe\">\n  <thead>\n    <tr style=\"text-align: right;\">\n      <th></th>\n      <th>airline</th>\n      <th>source_city</th>\n      <th>departure_time</th>\n      <th>stops</th>\n      <th>arrival_time</th>\n      <th>destination_city</th>\n      <th>flight_class</th>\n      <th>duration</th>\n      <th>days_left</th>\n      <th>price</th>\n    </tr>\n  </thead>\n  <tbody>\n    <tr>\n      <th>0</th>\n      <td>SpiceJet</td>\n      <td>Delhi</td>\n      <td>Evening</td>\n      <td>zero</td>\n      <td>Night</td>\n      <td>Mumbai</td>\n      <td>Economy</td>\n      <td>2.17</td>\n      <td>1</td>\n      <td>5953</td>\n    </tr>\n    <tr>\n      <th>1</th>\n      <td>SpiceJet</td>\n      <td>Delhi</td>\n      <td>Early_Morning</td>\n      <td>zero</td>\n      <td>Morning</td>\n      <td>Mumbai</td>\n      <td>Economy</td>\n      <td>2.33</td>\n      <td>1</td>\n      <td>5953</td>\n    </tr>\n    <tr>\n      <th>2</th>\n      <td>AirAsia</td>\n      <td>Delhi</td>\n      <td>Early_Morning</td>\n      <td>zero</td>\n      <td>Early_Morning</td>\n      <td>Mumbai</td>\n      <td>Economy</td>\n      <td>2.17</td>\n      <td>1</td>\n      <td>5956</td>\n    </tr>\n    <tr>\n      <th>3</th>\n      <td>Vistara</td>\n      <td>Delhi</td>\n      <td>Morning</td>\n      <td>zero</td>\n      <td>Afternoon</td>\n      <td>Mumbai</td>\n      <td>Economy</td>\n      <td>2.25</td>\n      <td>1</td>\n      <td>5955</td>\n    </tr>\n    <tr>\n      <th>4</th>\n      <td>Vistara</td>\n      <td>Delhi</td>\n      <td>Morning</td>\n      <td>zero</td>\n      <td>Morning</td>\n      <td>Mumbai</td>\n      <td>Economy</td>\n      <td>2.33</td>\n      <td>1</td>\n      <td>5955</td>\n    </tr>\n    <tr>\n      <th>...</th>\n      <td>...</td>\n      <td>...</td>\n      <td>...</td>\n      <td>...</td>\n      <td>...</td>\n      <td>...</td>\n      <td>...</td>\n      <td>...</td>\n      <td>...</td>\n      <td>...</td>\n    </tr>\n    <tr>\n      <th>300148</th>\n      <td>Vistara</td>\n      <td>Chennai</td>\n      <td>Morning</td>\n      <td>one</td>\n      <td>Evening</td>\n      <td>Hyderabad</td>\n      <td>Business</td>\n      <td>10.08</td>\n      <td>49</td>\n      <td>69265</td>\n    </tr>\n    <tr>\n      <th>300149</th>\n      <td>Vistara</td>\n      <td>Chennai</td>\n      <td>Afternoon</td>\n      <td>one</td>\n      <td>Night</td>\n      <td>Hyderabad</td>\n      <td>Business</td>\n      <td>10.42</td>\n      <td>49</td>\n      <td>77105</td>\n    </tr>\n    <tr>\n      <th>300150</th>\n      <td>Vistara</td>\n      <td>Chennai</td>\n      <td>Early_Morning</td>\n      <td>one</td>\n      <td>Night</td>\n      <td>Hyderabad</td>\n      <td>Business</td>\n      <td>13.83</td>\n      <td>49</td>\n      <td>79099</td>\n    </tr>\n    <tr>\n      <th>300151</th>\n      <td>Vistara</td>\n      <td>Chennai</td>\n      <td>Early_Morning</td>\n      <td>one</td>\n      <td>Evening</td>\n      <td>Hyderabad</td>\n      <td>Business</td>\n      <td>10.00</td>\n      <td>49</td>\n      <td>81585</td>\n    </tr>\n    <tr>\n      <th>300152</th>\n      <td>Vistara</td>\n      <td>Chennai</td>\n      <td>Morning</td>\n      <td>one</td>\n      <td>Evening</td>\n      <td>Hyderabad</td>\n      <td>Business</td>\n      <td>10.08</td>\n      <td>49</td>\n      <td>81585</td>\n    </tr>\n  </tbody>\n</table>\n<p>300153 rows × 10 columns</p>\n</div>"
     },
     "execution_count": 118,
     "metadata": {},
     "output_type": "execute_result"
    }
   ],
   "source": [
    "df"
   ],
   "metadata": {
    "collapsed": false,
    "ExecuteTime": {
     "end_time": "2024-10-14T09:01:39.504808500Z",
     "start_time": "2024-10-14T09:01:39.418038900Z"
    }
   }
  },
  {
   "cell_type": "code",
   "execution_count": 119,
   "outputs": [
    {
     "data": {
      "text/plain": "array(['Economy', 'Business'], dtype=object)"
     },
     "execution_count": 119,
     "metadata": {},
     "output_type": "execute_result"
    }
   ],
   "source": [
    "df.flight_class.unique()"
   ],
   "metadata": {
    "collapsed": false,
    "ExecuteTime": {
     "end_time": "2024-10-14T09:02:38.658168900Z",
     "start_time": "2024-10-14T09:02:38.510063500Z"
    }
   }
  },
  {
   "cell_type": "code",
   "execution_count": 120,
   "outputs": [],
   "source": [
    "df.stops = pd.factorize(df.stops)[0]"
   ],
   "metadata": {
    "collapsed": false,
    "ExecuteTime": {
     "end_time": "2024-10-14T09:02:48.855530Z",
     "start_time": "2024-10-14T09:02:48.790225Z"
    }
   }
  },
  {
   "cell_type": "code",
   "execution_count": 121,
   "outputs": [
    {
     "data": {
      "text/plain": "         airline source_city departure_time  stops   arrival_time  \\\n0       SpiceJet       Delhi        Evening      0          Night   \n1       SpiceJet       Delhi  Early_Morning      0        Morning   \n2        AirAsia       Delhi  Early_Morning      0  Early_Morning   \n3        Vistara       Delhi        Morning      0      Afternoon   \n4        Vistara       Delhi        Morning      0        Morning   \n...          ...         ...            ...    ...            ...   \n300148   Vistara     Chennai        Morning      1        Evening   \n300149   Vistara     Chennai      Afternoon      1          Night   \n300150   Vistara     Chennai  Early_Morning      1          Night   \n300151   Vistara     Chennai  Early_Morning      1        Evening   \n300152   Vistara     Chennai        Morning      1        Evening   \n\n       destination_city flight_class  duration  days_left  price  \n0                Mumbai      Economy      2.17          1   5953  \n1                Mumbai      Economy      2.33          1   5953  \n2                Mumbai      Economy      2.17          1   5956  \n3                Mumbai      Economy      2.25          1   5955  \n4                Mumbai      Economy      2.33          1   5955  \n...                 ...          ...       ...        ...    ...  \n300148        Hyderabad     Business     10.08         49  69265  \n300149        Hyderabad     Business     10.42         49  77105  \n300150        Hyderabad     Business     13.83         49  79099  \n300151        Hyderabad     Business     10.00         49  81585  \n300152        Hyderabad     Business     10.08         49  81585  \n\n[300153 rows x 10 columns]",
      "text/html": "<div>\n<style scoped>\n    .dataframe tbody tr th:only-of-type {\n        vertical-align: middle;\n    }\n\n    .dataframe tbody tr th {\n        vertical-align: top;\n    }\n\n    .dataframe thead th {\n        text-align: right;\n    }\n</style>\n<table border=\"1\" class=\"dataframe\">\n  <thead>\n    <tr style=\"text-align: right;\">\n      <th></th>\n      <th>airline</th>\n      <th>source_city</th>\n      <th>departure_time</th>\n      <th>stops</th>\n      <th>arrival_time</th>\n      <th>destination_city</th>\n      <th>flight_class</th>\n      <th>duration</th>\n      <th>days_left</th>\n      <th>price</th>\n    </tr>\n  </thead>\n  <tbody>\n    <tr>\n      <th>0</th>\n      <td>SpiceJet</td>\n      <td>Delhi</td>\n      <td>Evening</td>\n      <td>0</td>\n      <td>Night</td>\n      <td>Mumbai</td>\n      <td>Economy</td>\n      <td>2.17</td>\n      <td>1</td>\n      <td>5953</td>\n    </tr>\n    <tr>\n      <th>1</th>\n      <td>SpiceJet</td>\n      <td>Delhi</td>\n      <td>Early_Morning</td>\n      <td>0</td>\n      <td>Morning</td>\n      <td>Mumbai</td>\n      <td>Economy</td>\n      <td>2.33</td>\n      <td>1</td>\n      <td>5953</td>\n    </tr>\n    <tr>\n      <th>2</th>\n      <td>AirAsia</td>\n      <td>Delhi</td>\n      <td>Early_Morning</td>\n      <td>0</td>\n      <td>Early_Morning</td>\n      <td>Mumbai</td>\n      <td>Economy</td>\n      <td>2.17</td>\n      <td>1</td>\n      <td>5956</td>\n    </tr>\n    <tr>\n      <th>3</th>\n      <td>Vistara</td>\n      <td>Delhi</td>\n      <td>Morning</td>\n      <td>0</td>\n      <td>Afternoon</td>\n      <td>Mumbai</td>\n      <td>Economy</td>\n      <td>2.25</td>\n      <td>1</td>\n      <td>5955</td>\n    </tr>\n    <tr>\n      <th>4</th>\n      <td>Vistara</td>\n      <td>Delhi</td>\n      <td>Morning</td>\n      <td>0</td>\n      <td>Morning</td>\n      <td>Mumbai</td>\n      <td>Economy</td>\n      <td>2.33</td>\n      <td>1</td>\n      <td>5955</td>\n    </tr>\n    <tr>\n      <th>...</th>\n      <td>...</td>\n      <td>...</td>\n      <td>...</td>\n      <td>...</td>\n      <td>...</td>\n      <td>...</td>\n      <td>...</td>\n      <td>...</td>\n      <td>...</td>\n      <td>...</td>\n    </tr>\n    <tr>\n      <th>300148</th>\n      <td>Vistara</td>\n      <td>Chennai</td>\n      <td>Morning</td>\n      <td>1</td>\n      <td>Evening</td>\n      <td>Hyderabad</td>\n      <td>Business</td>\n      <td>10.08</td>\n      <td>49</td>\n      <td>69265</td>\n    </tr>\n    <tr>\n      <th>300149</th>\n      <td>Vistara</td>\n      <td>Chennai</td>\n      <td>Afternoon</td>\n      <td>1</td>\n      <td>Night</td>\n      <td>Hyderabad</td>\n      <td>Business</td>\n      <td>10.42</td>\n      <td>49</td>\n      <td>77105</td>\n    </tr>\n    <tr>\n      <th>300150</th>\n      <td>Vistara</td>\n      <td>Chennai</td>\n      <td>Early_Morning</td>\n      <td>1</td>\n      <td>Night</td>\n      <td>Hyderabad</td>\n      <td>Business</td>\n      <td>13.83</td>\n      <td>49</td>\n      <td>79099</td>\n    </tr>\n    <tr>\n      <th>300151</th>\n      <td>Vistara</td>\n      <td>Chennai</td>\n      <td>Early_Morning</td>\n      <td>1</td>\n      <td>Evening</td>\n      <td>Hyderabad</td>\n      <td>Business</td>\n      <td>10.00</td>\n      <td>49</td>\n      <td>81585</td>\n    </tr>\n    <tr>\n      <th>300152</th>\n      <td>Vistara</td>\n      <td>Chennai</td>\n      <td>Morning</td>\n      <td>1</td>\n      <td>Evening</td>\n      <td>Hyderabad</td>\n      <td>Business</td>\n      <td>10.08</td>\n      <td>49</td>\n      <td>81585</td>\n    </tr>\n  </tbody>\n</table>\n<p>300153 rows × 10 columns</p>\n</div>"
     },
     "execution_count": 121,
     "metadata": {},
     "output_type": "execute_result"
    }
   ],
   "source": [
    "df"
   ],
   "metadata": {
    "collapsed": false,
    "ExecuteTime": {
     "end_time": "2024-10-14T09:02:50.472142600Z",
     "start_time": "2024-10-14T09:02:50.411249600Z"
    }
   }
  },
  {
   "cell_type": "code",
   "execution_count": 122,
   "outputs": [
    {
     "data": {
      "text/plain": "<Figure size 640x480 with 1 Axes>",
      "image/png": "[encoded data removed]"
     },
     "metadata": {},
     "output_type": "display_data"
    }
   ],
   "source": [
    "# from the graph we can see that AirAsia Airways have the highest Price\n",
    "\n",
    "sns.barplot(y=\"price\", x=\"airline\", data=df.sort_values(\"price\", ascending=False));"
   ],
   "metadata": {
    "collapsed": false,
    "ExecuteTime": {
     "end_time": "2024-10-14T09:03:02.350106400Z",
     "start_time": "2024-10-14T09:02:51.865959900Z"
    }
   }
  },
  {
   "cell_type": "code",
   "execution_count": 123,
   "outputs": [
    {
     "data": {
      "text/plain": "               stops       duration      days_left          price\ncount  300153.000000  300153.000000  300153.000000  300153.000000\nmean        0.924312      12.221021      26.004751   20889.660523\nstd         0.398106       7.191997      13.561004   22697.767366\nmin         0.000000       0.830000       1.000000    1105.000000\n25%         1.000000       6.830000      15.000000    4783.000000\n50%         1.000000      11.250000      26.000000    7425.000000\n75%         1.000000      16.170000      38.000000   42521.000000\nmax         2.000000      49.830000      49.000000  123071.000000",
      "text/html": "<div>\n<style scoped>\n    .dataframe tbody tr th:only-of-type {\n        vertical-align: middle;\n    }\n\n    .dataframe tbody tr th {\n        vertical-align: top;\n    }\n\n    .dataframe thead th {\n        text-align: right;\n    }\n</style>\n<table border=\"1\" class=\"dataframe\">\n  <thead>\n    <tr style=\"text-align: right;\">\n      <th></th>\n      <th>stops</th>\n      <th>duration</th>\n      <th>days_left</th>\n      <th>price</th>\n    </tr>\n  </thead>\n  <tbody>\n    <tr>\n      <th>count</th>\n      <td>300153.000000</td>\n      <td>300153.000000</td>\n      <td>300153.000000</td>\n      <td>300153.000000</td>\n    </tr>\n    <tr>\n      <th>mean</th>\n      <td>0.924312</td>\n      <td>12.221021</td>\n      <td>26.004751</td>\n      <td>20889.660523</td>\n    </tr>\n    <tr>\n      <th>std</th>\n      <td>0.398106</td>\n      <td>7.191997</td>\n      <td>13.561004</td>\n      <td>22697.767366</td>\n    </tr>\n    <tr>\n      <th>min</th>\n      <td>0.000000</td>\n      <td>0.830000</td>\n      <td>1.000000</td>\n      <td>1105.000000</td>\n    </tr>\n    <tr>\n      <th>25%</th>\n      <td>1.000000</td>\n      <td>6.830000</td>\n      <td>15.000000</td>\n      <td>4783.000000</td>\n    </tr>\n    <tr>\n      <th>50%</th>\n      <td>1.000000</td>\n      <td>11.250000</td>\n      <td>26.000000</td>\n      <td>7425.000000</td>\n    </tr>\n    <tr>\n      <th>75%</th>\n      <td>1.000000</td>\n      <td>16.170000</td>\n      <td>38.000000</td>\n      <td>42521.000000</td>\n    </tr>\n    <tr>\n      <th>max</th>\n      <td>2.000000</td>\n      <td>49.830000</td>\n      <td>49.000000</td>\n      <td>123071.000000</td>\n    </tr>\n  </tbody>\n</table>\n</div>"
     },
     "execution_count": 123,
     "metadata": {},
     "output_type": "execute_result"
    }
   ],
   "source": [
    "df.describe()"
   ],
   "metadata": {
    "collapsed": false,
    "ExecuteTime": {
     "end_time": "2024-10-14T09:03:02.523278Z",
     "start_time": "2024-10-14T09:03:02.357184900Z"
    }
   }
  },
  {
   "cell_type": "code",
   "execution_count": 124,
   "outputs": [],
   "source": [
    "def one_hot_encode_column(data_frame, column_name, ):\n",
    "    \"\"\"\n",
    "    This function takes a DataFrame and a column name, performs one-hot encoding\n",
    "    on the specified column, and returns the DataFrame with the new encoded columns.\n",
    "\n",
    "    Parameters:\n",
    "    df (pd.DataFrame): The DataFrame to be modified.\n",
    "    column_name (str): The column name to be one-hot encoded.\n",
    "\n",
    "    Returns:\n",
    "    pd.DataFrame: The DataFrame with the specified column one-hot encoded and the original column dropped.\n",
    "    \"\"\"\n",
    "    # Initialize OneHotEncoder\n",
    "    encoder = OneHotEncoder(sparse_output=False)\n",
    "\n",
    "    # Select the column for encoding\n",
    "    column_df = df[[column_name]]\n",
    "\n",
    "    # Perform one-hot encoding\n",
    "    encoded = encoder.fit_transform(column_df)\n",
    "\n",
    "    # Convert the encoded data into a DataFrame with appropriate column names\n",
    "    encoded_df = pd.DataFrame(encoded, columns=encoder.get_feature_names_out([column_name]))\n",
    "\n",
    "    # Concatenate the original DataFrame with the new encoded columns\n",
    "    df_encoded = pd.concat([df, encoded_df], axis=1)\n",
    "\n",
    "    # Drop the original column that was encoded\n",
    "    df_encoded.drop(column_name, axis=1, inplace=True)\n",
    "\n",
    "    return df_encoded\n"
   ],
   "metadata": {
    "collapsed": false,
    "ExecuteTime": {
     "end_time": "2024-10-14T09:03:02.629629100Z",
     "start_time": "2024-10-14T09:03:02.524310900Z"
    }
   }
  },
  {
   "cell_type": "code",
   "execution_count": 125,
   "outputs": [
    {
     "data": {
      "text/plain": "  source_city departure_time  stops   arrival_time destination_city  \\\n0       Delhi        Evening      0          Night           Mumbai   \n1       Delhi  Early_Morning      0        Morning           Mumbai   \n2       Delhi  Early_Morning      0  Early_Morning           Mumbai   \n3       Delhi        Morning      0      Afternoon           Mumbai   \n4       Delhi        Morning      0        Morning           Mumbai   \n\n  flight_class  duration  days_left  price  airline_AirAsia  \\\n0      Economy      2.17          1   5953              0.0   \n1      Economy      2.33          1   5953              0.0   \n2      Economy      2.17          1   5956              1.0   \n3      Economy      2.25          1   5955              0.0   \n4      Economy      2.33          1   5955              0.0   \n\n   airline_Air_India  airline_GO_FIRST  airline_Indigo  airline_SpiceJet  \\\n0                0.0               0.0             0.0               1.0   \n1                0.0               0.0             0.0               1.0   \n2                0.0               0.0             0.0               0.0   \n3                0.0               0.0             0.0               0.0   \n4                0.0               0.0             0.0               0.0   \n\n   airline_Vistara  \n0              0.0  \n1              0.0  \n2              0.0  \n3              1.0  \n4              1.0  ",
      "text/html": "<div>\n<style scoped>\n    .dataframe tbody tr th:only-of-type {\n        vertical-align: middle;\n    }\n\n    .dataframe tbody tr th {\n        vertical-align: top;\n    }\n\n    .dataframe thead th {\n        text-align: right;\n    }\n</style>\n<table border=\"1\" class=\"dataframe\">\n  <thead>\n    <tr style=\"text-align: right;\">\n      <th></th>\n      <th>source_city</th>\n      <th>departure_time</th>\n      <th>stops</th>\n      <th>arrival_time</th>\n      <th>destination_city</th>\n      <th>flight_class</th>\n      <th>duration</th>\n      <th>days_left</th>\n      <th>price</th>\n      <th>airline_AirAsia</th>\n      <th>airline_Air_India</th>\n      <th>airline_GO_FIRST</th>\n      <th>airline_Indigo</th>\n      <th>airline_SpiceJet</th>\n      <th>airline_Vistara</th>\n    </tr>\n  </thead>\n  <tbody>\n    <tr>\n      <th>0</th>\n      <td>Delhi</td>\n      <td>Evening</td>\n      <td>0</td>\n      <td>Night</td>\n      <td>Mumbai</td>\n      <td>Economy</td>\n      <td>2.17</td>\n      <td>1</td>\n      <td>5953</td>\n      <td>0.0</td>\n      <td>0.0</td>\n      <td>0.0</td>\n      <td>0.0</td>\n      <td>1.0</td>\n      <td>0.0</td>\n    </tr>\n    <tr>\n      <th>1</th>\n      <td>Delhi</td>\n      <td>Early_Morning</td>\n      <td>0</td>\n      <td>Morning</td>\n      <td>Mumbai</td>\n      <td>Economy</td>\n      <td>2.33</td>\n      <td>1</td>\n      <td>5953</td>\n      <td>0.0</td>\n      <td>0.0</td>\n      <td>0.0</td>\n      <td>0.0</td>\n      <td>1.0</td>\n      <td>0.0</td>\n    </tr>\n    <tr>\n      <th>2</th>\n      <td>Delhi</td>\n      <td>Early_Morning</td>\n      <td>0</td>\n      <td>Early_Morning</td>\n      <td>Mumbai</td>\n      <td>Economy</td>\n      <td>2.17</td>\n      <td>1</td>\n      <td>5956</td>\n      <td>1.0</td>\n      <td>0.0</td>\n      <td>0.0</td>\n      <td>0.0</td>\n      <td>0.0</td>\n      <td>0.0</td>\n    </tr>\n    <tr>\n      <th>3</th>\n      <td>Delhi</td>\n      <td>Morning</td>\n      <td>0</td>\n      <td>Afternoon</td>\n      <td>Mumbai</td>\n      <td>Economy</td>\n      <td>2.25</td>\n      <td>1</td>\n      <td>5955</td>\n      <td>0.0</td>\n      <td>0.0</td>\n      <td>0.0</td>\n      <td>0.0</td>\n      <td>0.0</td>\n      <td>1.0</td>\n    </tr>\n    <tr>\n      <th>4</th>\n      <td>Delhi</td>\n      <td>Morning</td>\n      <td>0</td>\n      <td>Morning</td>\n      <td>Mumbai</td>\n      <td>Economy</td>\n      <td>2.33</td>\n      <td>1</td>\n      <td>5955</td>\n      <td>0.0</td>\n      <td>0.0</td>\n      <td>0.0</td>\n      <td>0.0</td>\n      <td>0.0</td>\n      <td>1.0</td>\n    </tr>\n  </tbody>\n</table>\n</div>"
     },
     "execution_count": 125,
     "metadata": {},
     "output_type": "execute_result"
    }
   ],
   "source": [
    "df = one_hot_encode_column(df, \"airline\")\n",
    "df.head()"
   ],
   "metadata": {
    "collapsed": false,
    "ExecuteTime": {
     "end_time": "2024-10-14T09:03:02.980813500Z",
     "start_time": "2024-10-14T09:03:02.559044100Z"
    }
   }
  },
  {
   "cell_type": "code",
   "execution_count": 126,
   "outputs": [
    {
     "data": {
      "text/plain": "<Axes: xlabel='source_city', ylabel='price'>"
     },
     "execution_count": 126,
     "metadata": {},
     "output_type": "execute_result"
    },
    {
     "data": {
      "text/plain": "<Figure size 640x480 with 1 Axes>",
      "image/png": "[encoded data removed]"
     },
     "metadata": {},
     "output_type": "display_data"
    }
   ],
   "source": [
    "df['source_city'].value_counts()\n",
    "\n",
    "# source_city vs price\n",
    "sns.barplot(y=\"price\", x=\"source_city\", data=df.sort_values(\"price\", ascending=False))\n"
   ],
   "metadata": {
    "collapsed": false,
    "ExecuteTime": {
     "end_time": "2024-10-14T09:03:10.194025Z",
     "start_time": "2024-10-14T09:03:02.958208300Z"
    }
   }
  },
  {
   "cell_type": "code",
   "execution_count": 127,
   "outputs": [
    {
     "data": {
      "text/plain": "Index(['departure_time', 'stops', 'arrival_time', 'destination_city',\n       'flight_class', 'duration', 'days_left', 'price', 'airline_AirAsia',\n       'airline_Air_India', 'airline_GO_FIRST', 'airline_Indigo',\n       'airline_SpiceJet', 'airline_Vistara', 'source_city_Bangalore',\n       'source_city_Chennai', 'source_city_Delhi', 'source_city_Hyderabad',\n       'source_city_Kolkata', 'source_city_Mumbai'],\n      dtype='object')"
     },
     "execution_count": 127,
     "metadata": {},
     "output_type": "execute_result"
    }
   ],
   "source": [
    "source_city = df[[\"source_city\"]]\n",
    "\n",
    "df = one_hot_encode_column(df, 'source_city')\n",
    "df.columns\n"
   ],
   "metadata": {
    "collapsed": false,
    "ExecuteTime": {
     "end_time": "2024-10-14T09:03:10.601455800Z",
     "start_time": "2024-10-14T09:03:10.194551800Z"
    }
   }
  },
  {
   "cell_type": "code",
   "execution_count": 128,
   "outputs": [
    {
     "name": "stdout",
     "output_type": "stream",
     "text": [
      "       departure_time\n",
      "0             Evening\n",
      "1       Early_Morning\n",
      "2       Early_Morning\n",
      "3             Morning\n",
      "4             Morning\n",
      "...               ...\n",
      "300148        Morning\n",
      "300149      Afternoon\n",
      "300150  Early_Morning\n",
      "300151  Early_Morning\n",
      "300152        Morning\n",
      "\n",
      "[300153 rows x 1 columns]\n",
      "   stops   arrival_time flight_class  duration  days_left  price  \\\n",
      "0      0          Night      Economy      2.17          1   5953   \n",
      "1      0        Morning      Economy      2.33          1   5953   \n",
      "2      0  Early_Morning      Economy      2.17          1   5956   \n",
      "3      0      Afternoon      Economy      2.25          1   5955   \n",
      "4      0        Morning      Economy      2.33          1   5955   \n",
      "\n",
      "   airline_AirAsia  airline_Air_India  airline_GO_FIRST  airline_Indigo  \\\n",
      "0              0.0                0.0               0.0             0.0   \n",
      "1              0.0                0.0               0.0             0.0   \n",
      "2              1.0                0.0               0.0             0.0   \n",
      "3              0.0                0.0               0.0             0.0   \n",
      "4              0.0                0.0               0.0             0.0   \n",
      "\n",
      "   airline_SpiceJet  airline_Vistara  source_city_Bangalore  \\\n",
      "0               1.0              0.0                    0.0   \n",
      "1               1.0              0.0                    0.0   \n",
      "2               0.0              0.0                    0.0   \n",
      "3               0.0              1.0                    0.0   \n",
      "4               0.0              1.0                    0.0   \n",
      "\n",
      "   source_city_Chennai  source_city_Delhi  source_city_Hyderabad  \\\n",
      "0                  0.0                1.0                    0.0   \n",
      "1                  0.0                1.0                    0.0   \n",
      "2                  0.0                1.0                    0.0   \n",
      "3                  0.0                1.0                    0.0   \n",
      "4                  0.0                1.0                    0.0   \n",
      "\n",
      "   source_city_Kolkata  source_city_Mumbai  destination_city_Bangalore  \\\n",
      "0                  0.0                 0.0                         0.0   \n",
      "1                  0.0                 0.0                         0.0   \n",
      "2                  0.0                 0.0                         0.0   \n",
      "3                  0.0                 0.0                         0.0   \n",
      "4                  0.0                 0.0                         0.0   \n",
      "\n",
      "   destination_city_Chennai  destination_city_Delhi  \\\n",
      "0                       0.0                     0.0   \n",
      "1                       0.0                     0.0   \n",
      "2                       0.0                     0.0   \n",
      "3                       0.0                     0.0   \n",
      "4                       0.0                     0.0   \n",
      "\n",
      "   destination_city_Hyderabad  destination_city_Kolkata  \\\n",
      "0                         0.0                       0.0   \n",
      "1                         0.0                       0.0   \n",
      "2                         0.0                       0.0   \n",
      "3                         0.0                       0.0   \n",
      "4                         0.0                       0.0   \n",
      "\n",
      "   destination_city_Mumbai  departure_time_Afternoon  \\\n",
      "0                      1.0                       0.0   \n",
      "1                      1.0                       0.0   \n",
      "2                      1.0                       0.0   \n",
      "3                      1.0                       0.0   \n",
      "4                      1.0                       0.0   \n",
      "\n",
      "   departure_time_Early_Morning  departure_time_Evening  \\\n",
      "0                           0.0                     1.0   \n",
      "1                           1.0                     0.0   \n",
      "2                           1.0                     0.0   \n",
      "3                           0.0                     0.0   \n",
      "4                           0.0                     0.0   \n",
      "\n",
      "   departure_time_Late_Night  departure_time_Morning  departure_time_Night  \n",
      "0                        0.0                     0.0                   0.0  \n",
      "1                        0.0                     0.0                   0.0  \n",
      "2                        0.0                     0.0                   0.0  \n",
      "3                        0.0                     1.0                   0.0  \n",
      "4                        0.0                     1.0                   0.0  \n"
     ]
    }
   ],
   "source": [
    "destination = df[[\"destination_city\"]]\n",
    "\n",
    "df = one_hot_encode_column(df, 'destination_city')\n",
    "\n",
    "print(df[['departure_time']])\n",
    "df = one_hot_encode_column(df, 'departure_time')\n",
    "print(df.head())"
   ],
   "metadata": {
    "collapsed": false,
    "ExecuteTime": {
     "end_time": "2024-10-14T09:03:11.996280900Z",
     "start_time": "2024-10-14T09:03:10.603454500Z"
    }
   }
  },
  {
   "cell_type": "code",
   "execution_count": 129,
   "outputs": [
    {
     "name": "stdout",
     "output_type": "stream",
     "text": [
      "0                 Night\n",
      "1               Morning\n",
      "2         Early_Morning\n",
      "3             Afternoon\n",
      "4               Morning\n",
      "              ...      \n",
      "300148          Evening\n",
      "300149            Night\n",
      "300150            Night\n",
      "300151          Evening\n",
      "300152          Evening\n",
      "Name: arrival_time, Length: 300153, dtype: object\n",
      "   stops flight_class  duration  days_left  price  airline_AirAsia  \\\n",
      "0      0      Economy      2.17          1   5953              0.0   \n",
      "1      0      Economy      2.33          1   5953              0.0   \n",
      "2      0      Economy      2.17          1   5956              1.0   \n",
      "3      0      Economy      2.25          1   5955              0.0   \n",
      "4      0      Economy      2.33          1   5955              0.0   \n",
      "\n",
      "   airline_Air_India  airline_GO_FIRST  airline_Indigo  airline_SpiceJet  \\\n",
      "0                0.0               0.0             0.0               1.0   \n",
      "1                0.0               0.0             0.0               1.0   \n",
      "2                0.0               0.0             0.0               0.0   \n",
      "3                0.0               0.0             0.0               0.0   \n",
      "4                0.0               0.0             0.0               0.0   \n",
      "\n",
      "   airline_Vistara  source_city_Bangalore  source_city_Chennai  \\\n",
      "0              0.0                    0.0                  0.0   \n",
      "1              0.0                    0.0                  0.0   \n",
      "2              0.0                    0.0                  0.0   \n",
      "3              1.0                    0.0                  0.0   \n",
      "4              1.0                    0.0                  0.0   \n",
      "\n",
      "   source_city_Delhi  source_city_Hyderabad  source_city_Kolkata  \\\n",
      "0                1.0                    0.0                  0.0   \n",
      "1                1.0                    0.0                  0.0   \n",
      "2                1.0                    0.0                  0.0   \n",
      "3                1.0                    0.0                  0.0   \n",
      "4                1.0                    0.0                  0.0   \n",
      "\n",
      "   source_city_Mumbai  destination_city_Bangalore  destination_city_Chennai  \\\n",
      "0                 0.0                         0.0                       0.0   \n",
      "1                 0.0                         0.0                       0.0   \n",
      "2                 0.0                         0.0                       0.0   \n",
      "3                 0.0                         0.0                       0.0   \n",
      "4                 0.0                         0.0                       0.0   \n",
      "\n",
      "   destination_city_Delhi  destination_city_Hyderabad  \\\n",
      "0                     0.0                         0.0   \n",
      "1                     0.0                         0.0   \n",
      "2                     0.0                         0.0   \n",
      "3                     0.0                         0.0   \n",
      "4                     0.0                         0.0   \n",
      "\n",
      "   destination_city_Kolkata  destination_city_Mumbai  \\\n",
      "0                       0.0                      1.0   \n",
      "1                       0.0                      1.0   \n",
      "2                       0.0                      1.0   \n",
      "3                       0.0                      1.0   \n",
      "4                       0.0                      1.0   \n",
      "\n",
      "   departure_time_Afternoon  departure_time_Early_Morning  \\\n",
      "0                       0.0                           0.0   \n",
      "1                       0.0                           1.0   \n",
      "2                       0.0                           1.0   \n",
      "3                       0.0                           0.0   \n",
      "4                       0.0                           0.0   \n",
      "\n",
      "   departure_time_Evening  departure_time_Late_Night  departure_time_Morning  \\\n",
      "0                     1.0                        0.0                     0.0   \n",
      "1                     0.0                        0.0                     0.0   \n",
      "2                     0.0                        0.0                     0.0   \n",
      "3                     0.0                        0.0                     1.0   \n",
      "4                     0.0                        0.0                     1.0   \n",
      "\n",
      "   departure_time_Night  arrival_time_Afternoon  arrival_time_Early_Morning  \\\n",
      "0                   0.0                     0.0                         0.0   \n",
      "1                   0.0                     0.0                         0.0   \n",
      "2                   0.0                     0.0                         1.0   \n",
      "3                   0.0                     1.0                         0.0   \n",
      "4                   0.0                     0.0                         0.0   \n",
      "\n",
      "   arrival_time_Evening  arrival_time_Late_Night  arrival_time_Morning  \\\n",
      "0                   0.0                      0.0                   0.0   \n",
      "1                   0.0                      0.0                   1.0   \n",
      "2                   0.0                      0.0                   0.0   \n",
      "3                   0.0                      0.0                   0.0   \n",
      "4                   0.0                      0.0                   1.0   \n",
      "\n",
      "   arrival_time_Night  \n",
      "0                 1.0  \n",
      "1                 0.0  \n",
      "2                 0.0  \n",
      "3                 0.0  \n",
      "4                 0.0  \n"
     ]
    }
   ],
   "source": [
    "print(df.arrival_time)\n",
    "df = one_hot_encode_column(df, 'arrival_time')\n",
    "print(df.head())"
   ],
   "metadata": {
    "collapsed": false,
    "ExecuteTime": {
     "end_time": "2024-10-14T09:03:12.649549900Z",
     "start_time": "2024-10-14T09:03:11.999281900Z"
    }
   }
  },
  {
   "cell_type": "code",
   "execution_count": 130,
   "outputs": [
    {
     "name": "stdout",
     "output_type": "stream",
     "text": [
      "   stops  duration  days_left  price  airline_AirAsia  airline_Air_India  \\\n",
      "0      0      2.17          1   5953              0.0                0.0   \n",
      "1      0      2.33          1   5953              0.0                0.0   \n",
      "2      0      2.17          1   5956              1.0                0.0   \n",
      "3      0      2.25          1   5955              0.0                0.0   \n",
      "4      0      2.33          1   5955              0.0                0.0   \n",
      "\n",
      "   airline_GO_FIRST  airline_Indigo  airline_SpiceJet  airline_Vistara  \\\n",
      "0               0.0             0.0               1.0              0.0   \n",
      "1               0.0             0.0               1.0              0.0   \n",
      "2               0.0             0.0               0.0              0.0   \n",
      "3               0.0             0.0               0.0              1.0   \n",
      "4               0.0             0.0               0.0              1.0   \n",
      "\n",
      "   source_city_Bangalore  source_city_Chennai  source_city_Delhi  \\\n",
      "0                    0.0                  0.0                1.0   \n",
      "1                    0.0                  0.0                1.0   \n",
      "2                    0.0                  0.0                1.0   \n",
      "3                    0.0                  0.0                1.0   \n",
      "4                    0.0                  0.0                1.0   \n",
      "\n",
      "   source_city_Hyderabad  source_city_Kolkata  source_city_Mumbai  \\\n",
      "0                    0.0                  0.0                 0.0   \n",
      "1                    0.0                  0.0                 0.0   \n",
      "2                    0.0                  0.0                 0.0   \n",
      "3                    0.0                  0.0                 0.0   \n",
      "4                    0.0                  0.0                 0.0   \n",
      "\n",
      "   destination_city_Bangalore  destination_city_Chennai  \\\n",
      "0                         0.0                       0.0   \n",
      "1                         0.0                       0.0   \n",
      "2                         0.0                       0.0   \n",
      "3                         0.0                       0.0   \n",
      "4                         0.0                       0.0   \n",
      "\n",
      "   destination_city_Delhi  destination_city_Hyderabad  \\\n",
      "0                     0.0                         0.0   \n",
      "1                     0.0                         0.0   \n",
      "2                     0.0                         0.0   \n",
      "3                     0.0                         0.0   \n",
      "4                     0.0                         0.0   \n",
      "\n",
      "   destination_city_Kolkata  destination_city_Mumbai  \\\n",
      "0                       0.0                      1.0   \n",
      "1                       0.0                      1.0   \n",
      "2                       0.0                      1.0   \n",
      "3                       0.0                      1.0   \n",
      "4                       0.0                      1.0   \n",
      "\n",
      "   departure_time_Afternoon  departure_time_Early_Morning  \\\n",
      "0                       0.0                           0.0   \n",
      "1                       0.0                           1.0   \n",
      "2                       0.0                           1.0   \n",
      "3                       0.0                           0.0   \n",
      "4                       0.0                           0.0   \n",
      "\n",
      "   departure_time_Evening  departure_time_Late_Night  departure_time_Morning  \\\n",
      "0                     1.0                        0.0                     0.0   \n",
      "1                     0.0                        0.0                     0.0   \n",
      "2                     0.0                        0.0                     0.0   \n",
      "3                     0.0                        0.0                     1.0   \n",
      "4                     0.0                        0.0                     1.0   \n",
      "\n",
      "   departure_time_Night  arrival_time_Afternoon  arrival_time_Early_Morning  \\\n",
      "0                   0.0                     0.0                         0.0   \n",
      "1                   0.0                     0.0                         0.0   \n",
      "2                   0.0                     0.0                         1.0   \n",
      "3                   0.0                     1.0                         0.0   \n",
      "4                   0.0                     0.0                         0.0   \n",
      "\n",
      "   arrival_time_Evening  arrival_time_Late_Night  arrival_time_Morning  \\\n",
      "0                   0.0                      0.0                   0.0   \n",
      "1                   0.0                      0.0                   1.0   \n",
      "2                   0.0                      0.0                   0.0   \n",
      "3                   0.0                      0.0                   0.0   \n",
      "4                   0.0                      0.0                   1.0   \n",
      "\n",
      "   arrival_time_Night  flight_class_Business  flight_class_Economy  \n",
      "0                 1.0                    0.0                   1.0  \n",
      "1                 0.0                    0.0                   1.0  \n",
      "2                 0.0                    0.0                   1.0  \n",
      "3                 0.0                    0.0                   1.0  \n",
      "4                 0.0                    0.0                   1.0  \n"
     ]
    }
   ],
   "source": [
    "destination = df[[\"flight_class\"]]\n",
    "\n",
    "df = one_hot_encode_column(df, 'flight_class')\n",
    "\n",
    "print(df.head())\n"
   ],
   "metadata": {
    "collapsed": false,
    "ExecuteTime": {
     "end_time": "2024-10-14T09:03:13.317475300Z",
     "start_time": "2024-10-14T09:03:12.652549200Z"
    }
   }
  },
  {
   "cell_type": "code",
   "execution_count": 131,
   "outputs": [],
   "source": [
    "X, y = df.drop('price', axis=1), df.price\n"
   ],
   "metadata": {
    "collapsed": false,
    "ExecuteTime": {
     "end_time": "2024-10-14T09:03:13.415167600Z",
     "start_time": "2024-10-14T09:03:13.301363200Z"
    }
   }
  },
  {
   "cell_type": "code",
   "execution_count": 132,
   "outputs": [
    {
     "name": "stdout",
     "output_type": "stream",
     "text": [
      "x data         stops  duration  days_left  airline_AirAsia  airline_Air_India  \\\n",
      "0           0      2.17          1              0.0                0.0   \n",
      "1           0      2.33          1              0.0                0.0   \n",
      "2           0      2.17          1              1.0                0.0   \n",
      "3           0      2.25          1              0.0                0.0   \n",
      "4           0      2.33          1              0.0                0.0   \n",
      "...       ...       ...        ...              ...                ...   \n",
      "300148      1     10.08         49              0.0                0.0   \n",
      "300149      1     10.42         49              0.0                0.0   \n",
      "300150      1     13.83         49              0.0                0.0   \n",
      "300151      1     10.00         49              0.0                0.0   \n",
      "300152      1     10.08         49              0.0                0.0   \n",
      "\n",
      "        airline_GO_FIRST  airline_Indigo  airline_SpiceJet  airline_Vistara  \\\n",
      "0                    0.0             0.0               1.0              0.0   \n",
      "1                    0.0             0.0               1.0              0.0   \n",
      "2                    0.0             0.0               0.0              0.0   \n",
      "3                    0.0             0.0               0.0              1.0   \n",
      "4                    0.0             0.0               0.0              1.0   \n",
      "...                  ...             ...               ...              ...   \n",
      "300148               0.0             0.0               0.0              1.0   \n",
      "300149               0.0             0.0               0.0              1.0   \n",
      "300150               0.0             0.0               0.0              1.0   \n",
      "300151               0.0             0.0               0.0              1.0   \n",
      "300152               0.0             0.0               0.0              1.0   \n",
      "\n",
      "        source_city_Bangalore  source_city_Chennai  source_city_Delhi  \\\n",
      "0                         0.0                  0.0                1.0   \n",
      "1                         0.0                  0.0                1.0   \n",
      "2                         0.0                  0.0                1.0   \n",
      "3                         0.0                  0.0                1.0   \n",
      "4                         0.0                  0.0                1.0   \n",
      "...                       ...                  ...                ...   \n",
      "300148                    0.0                  1.0                0.0   \n",
      "300149                    0.0                  1.0                0.0   \n",
      "300150                    0.0                  1.0                0.0   \n",
      "300151                    0.0                  1.0                0.0   \n",
      "300152                    0.0                  1.0                0.0   \n",
      "\n",
      "        source_city_Hyderabad  source_city_Kolkata  source_city_Mumbai  \\\n",
      "0                         0.0                  0.0                 0.0   \n",
      "1                         0.0                  0.0                 0.0   \n",
      "2                         0.0                  0.0                 0.0   \n",
      "3                         0.0                  0.0                 0.0   \n",
      "4                         0.0                  0.0                 0.0   \n",
      "...                       ...                  ...                 ...   \n",
      "300148                    0.0                  0.0                 0.0   \n",
      "300149                    0.0                  0.0                 0.0   \n",
      "300150                    0.0                  0.0                 0.0   \n",
      "300151                    0.0                  0.0                 0.0   \n",
      "300152                    0.0                  0.0                 0.0   \n",
      "\n",
      "        destination_city_Bangalore  destination_city_Chennai  \\\n",
      "0                              0.0                       0.0   \n",
      "1                              0.0                       0.0   \n",
      "2                              0.0                       0.0   \n",
      "3                              0.0                       0.0   \n",
      "4                              0.0                       0.0   \n",
      "...                            ...                       ...   \n",
      "300148                         0.0                       0.0   \n",
      "300149                         0.0                       0.0   \n",
      "300150                         0.0                       0.0   \n",
      "300151                         0.0                       0.0   \n",
      "300152                         0.0                       0.0   \n",
      "\n",
      "        destination_city_Delhi  destination_city_Hyderabad  \\\n",
      "0                          0.0                         0.0   \n",
      "1                          0.0                         0.0   \n",
      "2                          0.0                         0.0   \n",
      "3                          0.0                         0.0   \n",
      "4                          0.0                         0.0   \n",
      "...                        ...                         ...   \n",
      "300148                     0.0                         1.0   \n",
      "300149                     0.0                         1.0   \n",
      "300150                     0.0                         1.0   \n",
      "300151                     0.0                         1.0   \n",
      "300152                     0.0                         1.0   \n",
      "\n",
      "        destination_city_Kolkata  destination_city_Mumbai  \\\n",
      "0                            0.0                      1.0   \n",
      "1                            0.0                      1.0   \n",
      "2                            0.0                      1.0   \n",
      "3                            0.0                      1.0   \n",
      "4                            0.0                      1.0   \n",
      "...                          ...                      ...   \n",
      "300148                       0.0                      0.0   \n",
      "300149                       0.0                      0.0   \n",
      "300150                       0.0                      0.0   \n",
      "300151                       0.0                      0.0   \n",
      "300152                       0.0                      0.0   \n",
      "\n",
      "        departure_time_Afternoon  departure_time_Early_Morning  \\\n",
      "0                            0.0                           0.0   \n",
      "1                            0.0                           1.0   \n",
      "2                            0.0                           1.0   \n",
      "3                            0.0                           0.0   \n",
      "4                            0.0                           0.0   \n",
      "...                          ...                           ...   \n",
      "300148                       0.0                           0.0   \n",
      "300149                       1.0                           0.0   \n",
      "300150                       0.0                           1.0   \n",
      "300151                       0.0                           1.0   \n",
      "300152                       0.0                           0.0   \n",
      "\n",
      "        departure_time_Evening  departure_time_Late_Night  \\\n",
      "0                          1.0                        0.0   \n",
      "1                          0.0                        0.0   \n",
      "2                          0.0                        0.0   \n",
      "3                          0.0                        0.0   \n",
      "4                          0.0                        0.0   \n",
      "...                        ...                        ...   \n",
      "300148                     0.0                        0.0   \n",
      "300149                     0.0                        0.0   \n",
      "300150                     0.0                        0.0   \n",
      "300151                     0.0                        0.0   \n",
      "300152                     0.0                        0.0   \n",
      "\n",
      "        departure_time_Morning  departure_time_Night  arrival_time_Afternoon  \\\n",
      "0                          0.0                   0.0                     0.0   \n",
      "1                          0.0                   0.0                     0.0   \n",
      "2                          0.0                   0.0                     0.0   \n",
      "3                          1.0                   0.0                     1.0   \n",
      "4                          1.0                   0.0                     0.0   \n",
      "...                        ...                   ...                     ...   \n",
      "300148                     1.0                   0.0                     0.0   \n",
      "300149                     0.0                   0.0                     0.0   \n",
      "300150                     0.0                   0.0                     0.0   \n",
      "300151                     0.0                   0.0                     0.0   \n",
      "300152                     1.0                   0.0                     0.0   \n",
      "\n",
      "        arrival_time_Early_Morning  arrival_time_Evening  \\\n",
      "0                              0.0                   0.0   \n",
      "1                              0.0                   0.0   \n",
      "2                              1.0                   0.0   \n",
      "3                              0.0                   0.0   \n",
      "4                              0.0                   0.0   \n",
      "...                            ...                   ...   \n",
      "300148                         0.0                   1.0   \n",
      "300149                         0.0                   0.0   \n",
      "300150                         0.0                   0.0   \n",
      "300151                         0.0                   1.0   \n",
      "300152                         0.0                   1.0   \n",
      "\n",
      "        arrival_time_Late_Night  arrival_time_Morning  arrival_time_Night  \\\n",
      "0                           0.0                   0.0                 1.0   \n",
      "1                           0.0                   1.0                 0.0   \n",
      "2                           0.0                   0.0                 0.0   \n",
      "3                           0.0                   0.0                 0.0   \n",
      "4                           0.0                   1.0                 0.0   \n",
      "...                         ...                   ...                 ...   \n",
      "300148                      0.0                   0.0                 0.0   \n",
      "300149                      0.0                   0.0                 1.0   \n",
      "300150                      0.0                   0.0                 1.0   \n",
      "300151                      0.0                   0.0                 0.0   \n",
      "300152                      0.0                   0.0                 0.0   \n",
      "\n",
      "        flight_class_Business  flight_class_Economy  \n",
      "0                         0.0                   1.0  \n",
      "1                         0.0                   1.0  \n",
      "2                         0.0                   1.0  \n",
      "3                         0.0                   1.0  \n",
      "4                         0.0                   1.0  \n",
      "...                       ...                   ...  \n",
      "300148                    1.0                   0.0  \n",
      "300149                    1.0                   0.0  \n",
      "300150                    1.0                   0.0  \n",
      "300151                    1.0                   0.0  \n",
      "300152                    1.0                   0.0  \n",
      "\n",
      "[300153 rows x 35 columns]\n",
      "y data 0          5953\n",
      "1          5953\n",
      "2          5956\n",
      "3          5955\n",
      "4          5955\n",
      "          ...  \n",
      "300148    69265\n",
      "300149    77105\n",
      "300150    79099\n",
      "300151    81585\n",
      "300152    81585\n",
      "Name: price, Length: 300153, dtype: int64\n"
     ]
    }
   ],
   "source": [
    "print(\"x data\",X)\n",
    "print(\"y data\", y)"
   ],
   "metadata": {
    "collapsed": false,
    "ExecuteTime": {
     "end_time": "2024-10-14T09:03:13.636206400Z",
     "start_time": "2024-10-14T09:03:13.374357500Z"
    }
   }
  },
  {
   "cell_type": "code",
   "execution_count": 133,
   "outputs": [],
   "source": [
    "# from sklearn.ensemble import RandomForestRegressor\n",
    "# from sklearn.model_selection import train_test_split\n",
    "# from sklearn.metrics import mean_squared_error, mean_absolute_error, r2_score\n",
    "#\n",
    "# X_train, X_test, y_train, y_test = train_test_split(X, y, test_size=0.2)\n",
    "#\n",
    "# model = RandomForestRegressor(n_jobs=-1)\n",
    "# model.fit(X_train, y_train)\n",
    "#\n",
    "# model.score(X_test, y_test)\n",
    "# print(model.score(X_test, y_test))\n",
    "#\n",
    "# # Hyperparameter tuning\n",
    "#\n",
    "# y_pred = model.predict(X_test)"
   ],
   "metadata": {
    "collapsed": false,
    "ExecuteTime": {
     "end_time": "2024-10-14T09:03:13.639228300Z",
     "start_time": "2024-10-14T09:03:13.464178200Z"
    }
   }
  },
  {
   "cell_type": "code",
   "execution_count": 134,
   "outputs": [],
   "source": [
    "from sklearn.model_selection import train_test_split\n",
    "# Split the dataset into training and testing sets\n",
    "X_train, X_test, y_train, y_test = train_test_split(X, y, test_size=0.2, random_state=42)\n"
   ],
   "metadata": {
    "collapsed": false,
    "ExecuteTime": {
     "end_time": "2024-10-14T09:03:14.199162400Z",
     "start_time": "2024-10-14T09:03:13.486822900Z"
    }
   }
  },
  {
   "cell_type": "code",
   "execution_count": 135,
   "outputs": [
    {
     "data": {
      "text/plain": "DecisionTreeRegressor(random_state=42)",
      "text/html": "<style>#sk-container-id-5 {\n  /* Definition of color scheme common for light and dark mode */\n  --sklearn-color-text: black;\n  --sklearn-color-line: gray;\n  /* Definition of color scheme for unfitted estimators */\n  --sklearn-color-unfitted-level-0: #fff5e6;\n  --sklearn-color-unfitted-level-1: #f6e4d2;\n  --sklearn-color-unfitted-level-2: #ffe0b3;\n  --sklearn-color-unfitted-level-3: chocolate;\n  /* Definition of color scheme for fitted estimators */\n  --sklearn-color-fitted-level-0: #f0f8ff;\n  --sklearn-color-fitted-level-1: #d4ebff;\n  --sklearn-color-fitted-level-2: #b3dbfd;\n  --sklearn-color-fitted-level-3: cornflowerblue;\n\n  /* Specific color for light theme */\n  --sklearn-color-text-on-default-background: var(--sg-text-color, var(--theme-code-foreground, var(--jp-content-font-color1, black)));\n  --sklearn-color-background: var(--sg-background-color, var(--theme-background, var(--jp-layout-color0, white)));\n  --sklearn-color-border-box: var(--sg-text-color, var(--theme-code-foreground, var(--jp-content-font-color1, black)));\n  --sklearn-color-icon: #696969;\n\n  @media (prefers-color-scheme: dark) {\n    /* Redefinition of color scheme for dark theme */\n    --sklearn-color-text-on-default-background: var(--sg-text-color, var(--theme-code-foreground, var(--jp-content-font-color1, white)));\n    --sklearn-color-background: var(--sg-background-color, var(--theme-background, var(--jp-layout-color0, #111)));\n    --sklearn-color-border-box: var(--sg-text-color, var(--theme-code-foreground, var(--jp-content-font-color1, white)));\n    --sklearn-color-icon: #878787;\n  }\n}\n\n#sk-container-id-5 {\n  color: var(--sklearn-color-text);\n}\n\n#sk-container-id-5 pre {\n  padding: 0;\n}\n\n#sk-container-id-5 input.sk-hidden--visually {\n  border: 0;\n  clip: rect(1px 1px 1px 1px);\n  clip: rect(1px, 1px, 1px, 1px);\n  height: 1px;\n  margin: -1px;\n  overflow: hidden;\n  padding: 0;\n  position: absolute;\n  width: 1px;\n}\n\n#sk-container-id-5 div.sk-dashed-wrapped {\n  border: 1px dashed var(--sklearn-color-line);\n  margin: 0 0.4em 0.5em 0.4em;\n  box-sizing: border-box;\n  padding-bottom: 0.4em;\n  background-color: var(--sklearn-color-background);\n}\n\n#sk-container-id-5 div.sk-container {\n  /* jupyter's `normalize.less` sets `[hidden] { display: none; }`\n     but bootstrap.min.css set `[hidden] { display: none !important; }`\n     so we also need the `!important` here to be able to override the\n     default hidden behavior on the sphinx rendered scikit-learn.org.\n     See: https://github.com/scikit-learn/scikit-learn/issues/21755 */\n  display: inline-block !important;\n  position: relative;\n}\n\n#sk-container-id-5 div.sk-text-repr-fallback {\n  display: none;\n}\n\ndiv.sk-parallel-item,\ndiv.sk-serial,\ndiv.sk-item {\n  /* draw centered vertical line to link estimators */\n  background-image: linear-gradient(var(--sklearn-color-text-on-default-background), var(--sklearn-color-text-on-default-background));\n  background-size: 2px 100%;\n  background-repeat: no-repeat;\n  background-position: center center;\n}\n\n/* Parallel-specific style estimator block */\n\n#sk-container-id-5 div.sk-parallel-item::after {\n  content: \"\";\n  width: 100%;\n  border-bottom: 2px solid var(--sklearn-color-text-on-default-background);\n  flex-grow: 1;\n}\n\n#sk-container-id-5 div.sk-parallel {\n  display: flex;\n  align-items: stretch;\n  justify-content: center;\n  background-color: var(--sklearn-color-background);\n  position: relative;\n}\n\n#sk-container-id-5 div.sk-parallel-item {\n  display: flex;\n  flex-direction: column;\n}\n\n#sk-container-id-5 div.sk-parallel-item:first-child::after {\n  align-self: flex-end;\n  width: 50%;\n}\n\n#sk-container-id-5 div.sk-parallel-item:last-child::after {\n  align-self: flex-start;\n  width: 50%;\n}\n\n#sk-container-id-5 div.sk-parallel-item:only-child::after {\n  width: 0;\n}\n\n/* Serial-specific style estimator block */\n\n#sk-container-id-5 div.sk-serial {\n  display: flex;\n  flex-direction: column;\n  align-items: center;\n  background-color: var(--sklearn-color-background);\n  padding-right: 1em;\n  padding-left: 1em;\n}\n\n\n/* Toggleable style: style used for estimator/Pipeline/ColumnTransformer box that is\nclickable and can be expanded/collapsed.\n- Pipeline and ColumnTransformer use this feature and define the default style\n- Estimators will overwrite some part of the style using the `sk-estimator` class\n*/\n\n/* Pipeline and ColumnTransformer style (default) */\n\n#sk-container-id-5 div.sk-toggleable {\n  /* Default theme specific background. It is overwritten whether we have a\n  specific estimator or a Pipeline/ColumnTransformer */\n  background-color: var(--sklearn-color-background);\n}\n\n/* Toggleable label */\n#sk-container-id-5 label.sk-toggleable__label {\n  cursor: pointer;\n  display: block;\n  width: 100%;\n  margin-bottom: 0;\n  padding: 0.5em;\n  box-sizing: border-box;\n  text-align: center;\n}\n\n#sk-container-id-5 label.sk-toggleable__label-arrow:before {\n  /* Arrow on the left of the label */\n  content: \"▸\";\n  float: left;\n  margin-right: 0.25em;\n  color: var(--sklearn-color-icon);\n}\n\n#sk-container-id-5 label.sk-toggleable__label-arrow:hover:before {\n  color: var(--sklearn-color-text);\n}\n\n/* Toggleable content - dropdown */\n\n#sk-container-id-5 div.sk-toggleable__content {\n  max-height: 0;\n  max-width: 0;\n  overflow: hidden;\n  text-align: left;\n  /* unfitted */\n  background-color: var(--sklearn-color-unfitted-level-0);\n}\n\n#sk-container-id-5 div.sk-toggleable__content.fitted {\n  /* fitted */\n  background-color: var(--sklearn-color-fitted-level-0);\n}\n\n#sk-container-id-5 div.sk-toggleable__content pre {\n  margin: 0.2em;\n  border-radius: 0.25em;\n  color: var(--sklearn-color-text);\n  /* unfitted */\n  background-color: var(--sklearn-color-unfitted-level-0);\n}\n\n#sk-container-id-5 div.sk-toggleable__content.fitted pre {\n  /* unfitted */\n  background-color: var(--sklearn-color-fitted-level-0);\n}\n\n#sk-container-id-5 input.sk-toggleable__control:checked~div.sk-toggleable__content {\n  /* Expand drop-down */\n  max-height: 200px;\n  max-width: 100%;\n  overflow: auto;\n}\n\n#sk-container-id-5 input.sk-toggleable__control:checked~label.sk-toggleable__label-arrow:before {\n  content: \"▾\";\n}\n\n/* Pipeline/ColumnTransformer-specific style */\n\n#sk-container-id-5 div.sk-label input.sk-toggleable__control:checked~label.sk-toggleable__label {\n  color: var(--sklearn-color-text);\n  background-color: var(--sklearn-color-unfitted-level-2);\n}\n\n#sk-container-id-5 div.sk-label.fitted input.sk-toggleable__control:checked~label.sk-toggleable__label {\n  background-color: var(--sklearn-color-fitted-level-2);\n}\n\n/* Estimator-specific style */\n\n/* Colorize estimator box */\n#sk-container-id-5 div.sk-estimator input.sk-toggleable__control:checked~label.sk-toggleable__label {\n  /* unfitted */\n  background-color: var(--sklearn-color-unfitted-level-2);\n}\n\n#sk-container-id-5 div.sk-estimator.fitted input.sk-toggleable__control:checked~label.sk-toggleable__label {\n  /* fitted */\n  background-color: var(--sklearn-color-fitted-level-2);\n}\n\n#sk-container-id-5 div.sk-label label.sk-toggleable__label,\n#sk-container-id-5 div.sk-label label {\n  /* The background is the default theme color */\n  color: var(--sklearn-color-text-on-default-background);\n}\n\n/* On hover, darken the color of the background */\n#sk-container-id-5 div.sk-label:hover label.sk-toggleable__label {\n  color: var(--sklearn-color-text);\n  background-color: var(--sklearn-color-unfitted-level-2);\n}\n\n/* Label box, darken color on hover, fitted */\n#sk-container-id-5 div.sk-label.fitted:hover label.sk-toggleable__label.fitted {\n  color: var(--sklearn-color-text);\n  background-color: var(--sklearn-color-fitted-level-2);\n}\n\n/* Estimator label */\n\n#sk-container-id-5 div.sk-label label {\n  font-family: monospace;\n  font-weight: bold;\n  display: inline-block;\n  line-height: 1.2em;\n}\n\n#sk-container-id-5 div.sk-label-container {\n  text-align: center;\n}\n\n/* Estimator-specific */\n#sk-container-id-5 div.sk-estimator {\n  font-family: monospace;\n  border: 1px dotted var(--sklearn-color-border-box);\n  border-radius: 0.25em;\n  box-sizing: border-box;\n  margin-bottom: 0.5em;\n  /* unfitted */\n  background-color: var(--sklearn-color-unfitted-level-0);\n}\n\n#sk-container-id-5 div.sk-estimator.fitted {\n  /* fitted */\n  background-color: var(--sklearn-color-fitted-level-0);\n}\n\n/* on hover */\n#sk-container-id-5 div.sk-estimator:hover {\n  /* unfitted */\n  background-color: var(--sklearn-color-unfitted-level-2);\n}\n\n#sk-container-id-5 div.sk-estimator.fitted:hover {\n  /* fitted */\n  background-color: var(--sklearn-color-fitted-level-2);\n}\n\n/* Specification for estimator info (e.g. \"i\" and \"?\") */\n\n/* Common style for \"i\" and \"?\" */\n\n.sk-estimator-doc-link,\na:link.sk-estimator-doc-link,\na:visited.sk-estimator-doc-link {\n  float: right;\n  font-size: smaller;\n  line-height: 1em;\n  font-family: monospace;\n  background-color: var(--sklearn-color-background);\n  border-radius: 1em;\n  height: 1em;\n  width: 1em;\n  text-decoration: none !important;\n  margin-left: 1ex;\n  /* unfitted */\n  border: var(--sklearn-color-unfitted-level-1) 1pt solid;\n  color: var(--sklearn-color-unfitted-level-1);\n}\n\n.sk-estimator-doc-link.fitted,\na:link.sk-estimator-doc-link.fitted,\na:visited.sk-estimator-doc-link.fitted {\n  /* fitted */\n  border: var(--sklearn-color-fitted-level-1) 1pt solid;\n  color: var(--sklearn-color-fitted-level-1);\n}\n\n/* On hover */\ndiv.sk-estimator:hover .sk-estimator-doc-link:hover,\n.sk-estimator-doc-link:hover,\ndiv.sk-label-container:hover .sk-estimator-doc-link:hover,\n.sk-estimator-doc-link:hover {\n  /* unfitted */\n  background-color: var(--sklearn-color-unfitted-level-3);\n  color: var(--sklearn-color-background);\n  text-decoration: none;\n}\n\ndiv.sk-estimator.fitted:hover .sk-estimator-doc-link.fitted:hover,\n.sk-estimator-doc-link.fitted:hover,\ndiv.sk-label-container:hover .sk-estimator-doc-link.fitted:hover,\n.sk-estimator-doc-link.fitted:hover {\n  /* fitted */\n  background-color: var(--sklearn-color-fitted-level-3);\n  color: var(--sklearn-color-background);\n  text-decoration: none;\n}\n\n/* Span, style for the box shown on hovering the info icon */\n.sk-estimator-doc-link span {\n  display: none;\n  z-index: 9999;\n  position: relative;\n  font-weight: normal;\n  right: .2ex;\n  padding: .5ex;\n  margin: .5ex;\n  width: min-content;\n  min-width: 20ex;\n  max-width: 50ex;\n  color: var(--sklearn-color-text);\n  box-shadow: 2pt 2pt 4pt #999;\n  /* unfitted */\n  background: var(--sklearn-color-unfitted-level-0);\n  border: .5pt solid var(--sklearn-color-unfitted-level-3);\n}\n\n.sk-estimator-doc-link.fitted span {\n  /* fitted */\n  background: var(--sklearn-color-fitted-level-0);\n  border: var(--sklearn-color-fitted-level-3);\n}\n\n.sk-estimator-doc-link:hover span {\n  display: block;\n}\n\n/* \"?\"-specific style due to the `<a>` HTML tag */\n\n#sk-container-id-5 a.estimator_doc_link {\n  float: right;\n  font-size: 1rem;\n  line-height: 1em;\n  font-family: monospace;\n  background-color: var(--sklearn-color-background);\n  border-radius: 1rem;\n  height: 1rem;\n  width: 1rem;\n  text-decoration: none;\n  /* unfitted */\n  color: var(--sklearn-color-unfitted-level-1);\n  border: var(--sklearn-color-unfitted-level-1) 1pt solid;\n}\n\n#sk-container-id-5 a.estimator_doc_link.fitted {\n  /* fitted */\n  border: var(--sklearn-color-fitted-level-1) 1pt solid;\n  color: var(--sklearn-color-fitted-level-1);\n}\n\n/* On hover */\n#sk-container-id-5 a.estimator_doc_link:hover {\n  /* unfitted */\n  background-color: var(--sklearn-color-unfitted-level-3);\n  color: var(--sklearn-color-background);\n  text-decoration: none;\n}\n\n#sk-container-id-5 a.estimator_doc_link.fitted:hover {\n  /* fitted */\n  background-color: var(--sklearn-color-fitted-level-3);\n}\n</style><div id=\"sk-container-id-5\" class=\"sk-top-container\"><div class=\"sk-text-repr-fallback\"><pre>DecisionTreeRegressor(random_state=42)</pre><b>In a Jupyter environment, please rerun this cell to show the HTML representation or trust the notebook. <br />On GitHub, the HTML representation is unable to render, please try loading this page with nbviewer.org.</b></div><div class=\"sk-container\" hidden><div class=\"sk-item\"><div class=\"sk-estimator fitted sk-toggleable\"><input class=\"sk-toggleable__control sk-hidden--visually\" id=\"sk-estimator-id-5\" type=\"checkbox\" checked><label for=\"sk-estimator-id-5\" class=\"sk-toggleable__label fitted sk-toggleable__label-arrow fitted\">&nbsp;&nbsp;DecisionTreeRegressor<a class=\"sk-estimator-doc-link fitted\" rel=\"noreferrer\" target=\"_blank\" href=\"https://scikit-learn.org/1.5/modules/generated/sklearn.tree.DecisionTreeRegressor.html\">?<span>Documentation for DecisionTreeRegressor</span></a><span class=\"sk-estimator-doc-link fitted\">i<span>Fitted</span></span></label><div class=\"sk-toggleable__content fitted\"><pre>DecisionTreeRegressor(random_state=42)</pre></div> </div></div></div></div>"
     },
     "execution_count": 135,
     "metadata": {},
     "output_type": "execute_result"
    }
   ],
   "source": [
    "from sklearn.tree import DecisionTreeRegressor\n",
    "from sklearn.metrics import mean_squared_error, mean_absolute_error, r2_score\n",
    "# Initialize the Decision Tree Regressor\n",
    "dt_regressor = DecisionTreeRegressor(random_state=42)\n",
    "\n",
    "# Train the model on the training data\n",
    "dt_regressor.fit(X_train, y_train)\n"
   ],
   "metadata": {
    "collapsed": false,
    "ExecuteTime": {
     "end_time": "2024-10-14T09:03:17.911085200Z",
     "start_time": "2024-10-14T09:03:14.207310500Z"
    }
   }
  },
  {
   "cell_type": "code",
   "execution_count": 136,
   "outputs": [],
   "source": [
    "y_predict = dt_regressor.predict(X_test)"
   ],
   "metadata": {
    "collapsed": false,
    "ExecuteTime": {
     "end_time": "2024-10-14T09:03:18.022087500Z",
     "start_time": "2024-10-14T09:03:17.912087400Z"
    }
   }
  },
  {
   "cell_type": "code",
   "execution_count": 136,
   "outputs": [],
   "source": [],
   "metadata": {
    "collapsed": false,
    "ExecuteTime": {
     "end_time": "2024-10-14T09:03:18.028170100Z",
     "start_time": "2024-10-14T09:03:18.007224600Z"
    }
   }
  },
  {
   "cell_type": "code",
   "execution_count": 137,
   "outputs": [
    {
     "name": "stdout",
     "output_type": "stream",
     "text": [
      "Root Squared:  0.9759438536817697\n",
      "Mean Absolute Error:  1162.9899190973554\n",
      "Mean Squared Error:  12400516.997426793\n",
      "Root Mean Squares Error:  3521.43678026836\n"
     ]
    },
    {
     "data": {
      "text/plain": "Text(0, 0.5, 'Predicted VS Actual Price')"
     },
     "execution_count": 137,
     "metadata": {},
     "output_type": "execute_result"
    },
    {
     "data": {
      "text/plain": "<Figure size 640x480 with 1 Axes>",
      "image/png": "[encoded data removed]"
     },
     "metadata": {},
     "output_type": "display_data"
    }
   ],
   "source": [
    "import math\n",
    "\n",
    "\n",
    "print(\"Root Squared: \", r2_score(y_test, y_predict))\n",
    "print(\"Mean Absolute Error: \", mean_absolute_error(y_test, y_predict))\n",
    "print(\"Mean Squared Error: \", mean_squared_error(y_test, y_predict))\n",
    "print(\"Root Mean Squares Error: \", math.sqrt(mean_squared_error(y_test, y_predict)))\n",
    "\n",
    "plt.scatter(y_test, y_predict)\n",
    "plt.xlabel(\"Actual Flight price\")\n",
    "plt.ylabel(\"Predicted Flight Price\")\n",
    "plt.ylabel(\"Predicted VS Actual Price\")\n"
   ],
   "metadata": {
    "collapsed": false,
    "ExecuteTime": {
     "end_time": "2024-10-14T09:03:18.919496400Z",
     "start_time": "2024-10-14T09:03:18.028170100Z"
    }
   }
  },
  {
   "cell_type": "code",
   "execution_count": 138,
   "outputs": [
    {
     "data": {
      "text/plain": "count    300153.000000\nmean      20889.660523\nstd       22697.767366\nmin        1105.000000\n25%        4783.000000\n50%        7425.000000\n75%       42521.000000\nmax      123071.000000\nName: price, dtype: float64"
     },
     "execution_count": 138,
     "metadata": {},
     "output_type": "execute_result"
    }
   ],
   "source": [
    "df[\"price\"].describe()"
   ],
   "metadata": {
    "collapsed": false,
    "ExecuteTime": {
     "end_time": "2024-10-14T09:03:19.071188400Z",
     "start_time": "2024-10-14T09:03:18.924549200Z"
    }
   }
  },
  {
   "cell_type": "code",
   "execution_count": 139,
   "outputs": [],
   "source": [
    "# importance = dict(zip(model.feature_names_in_, model.feature_importances_))\n",
    "# sorted_importances = sorted(importance.items(), key=lambda x: x[1], reverse=True)\n",
    "#\n",
    "# print(sorted_importances)"
   ],
   "metadata": {
    "collapsed": false,
    "ExecuteTime": {
     "end_time": "2024-10-14T09:03:19.071188400Z",
     "start_time": "2024-10-14T09:03:18.954211100Z"
    }
   }
  },
  {
   "cell_type": "code",
   "execution_count": 140,
   "outputs": [],
   "source": [
    "# Sample a smaller portion of the data\n",
    "X_train_sample = X_train.sample(frac=0.1, random_state=42)  # 10% of the data\n",
    "y_train_sample = y_train.sample(frac=0.1, random_state=42)\n"
   ],
   "metadata": {
    "collapsed": false,
    "ExecuteTime": {
     "end_time": "2024-10-14T09:03:19.073190600Z",
     "start_time": "2024-10-14T09:03:18.969334700Z"
    }
   }
  },
  {
   "cell_type": "code",
   "execution_count": 141,
   "outputs": [
    {
     "name": "stdout",
     "output_type": "stream",
     "text": [
      "Fitting 5 folds for each of 5 candidates, totalling 25 fits\n"
     ]
    },
    {
     "name": "stderr",
     "output_type": "stream",
     "text": [
      "C:\\Users\\DELL\\AppData\\Local\\Programs\\Python\\Python312\\Lib\\site-packages\\numpy\\ma\\core.py:2881: RuntimeWarning: invalid value encountered in cast\n",
      "  _data = np.array(data, dtype=dtype, copy=copy,\n"
     ]
    },
    {
     "name": "stdout",
     "output_type": "stream",
     "text": [
      "Best Hyperparameters:  {'max_depth': 39, 'max_features': 'log2', 'min_samples_leaf': 3, 'min_samples_split': 10}\n"
     ]
    }
   ],
   "source": [
    "from sklearn.model_selection import RandomizedSearchCV\n",
    "from scipy.stats import randint, uniform\n",
    "from sklearn.tree import DecisionTreeRegressor\n",
    "\n",
    "# Define the parameter distribution (n_estimators removed for DecisionTree)\n",
    "param_dist = {\n",
    "    'max_depth': randint(10,50),       # Try different depths\n",
    "    'min_samples_split': randint(2, 11),           # Random split values\n",
    "    'min_samples_leaf': randint(1, 5),             # Random minimum leaf sizes\n",
    "    'max_features': ['sqrt', 'log2']               # Correct features options\n",
    "}\n",
    "\n",
    "# Define the DecisionTreeRegressor model\n",
    "model = DecisionTreeRegressor(random_state=42)\n",
    "\n",
    "# Define the RandomizedSearchCV\n",
    "random_search = RandomizedSearchCV(\n",
    "    estimator=model,\n",
    "    param_distributions=param_dist,\n",
    "    n_iter=5,                                     # Increase iterations for better hyperparameter search\n",
    "    cv=5,                                          # 5-fold cross-validation\n",
    "    scoring='neg_mean_squared_error',              # For regression tasks\n",
    "    verbose=2,\n",
    "    random_state=10,\n",
    "    n_jobs=-1                                      # Parallel execution for speed\n",
    ")\n",
    "\n",
    "# Fit the RandomizedSearchCV\n",
    "random_search.fit(X_train, y_train)\n",
    "\n",
    "# Get the best estimator\n",
    "best_regressor = random_search.best_estimator_\n",
    "\n",
    "# Display the best hyperparameters\n",
    "print(\"Best Hyperparameters: \", random_search.best_params_)\n"
   ],
   "metadata": {
    "collapsed": false,
    "ExecuteTime": {
     "end_time": "2024-10-14T09:03:44.417387300Z",
     "start_time": "2024-10-14T09:03:20.120506100Z"
    }
   }
  },
  {
   "cell_type": "code",
   "execution_count": 142,
   "outputs": [],
   "source": [
    "# importance = dict(zip(model.feature_names_in_, model.feature_importances_))\n",
    "# sorted_importances = sorted(importance.items(), key=lambda x: x[1], reverse=True)\n",
    "#\n",
    "# # Output top 10 most important features\n",
    "# top_features = sorted_importances[:10]\n",
    "# print(\"Top 10 important features:\", top_features)\n"
   ],
   "metadata": {
    "collapsed": false,
    "ExecuteTime": {
     "end_time": "2024-10-14T09:03:44.427481300Z",
     "start_time": "2024-10-14T09:03:44.415375Z"
    }
   }
  },
  {
   "cell_type": "code",
   "execution_count": 143,
   "outputs": [
    {
     "data": {
      "text/plain": "DecisionTreeRegressor(max_depth=39, max_features='log2', min_samples_leaf=3,\n                      min_samples_split=10, random_state=42)",
      "text/html": "<style>#sk-container-id-6 {\n  /* Definition of color scheme common for light and dark mode */\n  --sklearn-color-text: black;\n  --sklearn-color-line: gray;\n  /* Definition of color scheme for unfitted estimators */\n  --sklearn-color-unfitted-level-0: #fff5e6;\n  --sklearn-color-unfitted-level-1: #f6e4d2;\n  --sklearn-color-unfitted-level-2: #ffe0b3;\n  --sklearn-color-unfitted-level-3: chocolate;\n  /* Definition of color scheme for fitted estimators */\n  --sklearn-color-fitted-level-0: #f0f8ff;\n  --sklearn-color-fitted-level-1: #d4ebff;\n  --sklearn-color-fitted-level-2: #b3dbfd;\n  --sklearn-color-fitted-level-3: cornflowerblue;\n\n  /* Specific color for light theme */\n  --sklearn-color-text-on-default-background: var(--sg-text-color, var(--theme-code-foreground, var(--jp-content-font-color1, black)));\n  --sklearn-color-background: var(--sg-background-color, var(--theme-background, var(--jp-layout-color0, white)));\n  --sklearn-color-border-box: var(--sg-text-color, var(--theme-code-foreground, var(--jp-content-font-color1, black)));\n  --sklearn-color-icon: #696969;\n\n  @media (prefers-color-scheme: dark) {\n    /* Redefinition of color scheme for dark theme */\n    --sklearn-color-text-on-default-background: var(--sg-text-color, var(--theme-code-foreground, var(--jp-content-font-color1, white)));\n    --sklearn-color-background: var(--sg-background-color, var(--theme-background, var(--jp-layout-color0, #111)));\n    --sklearn-color-border-box: var(--sg-text-color, var(--theme-code-foreground, var(--jp-content-font-color1, white)));\n    --sklearn-color-icon: #878787;\n  }\n}\n\n#sk-container-id-6 {\n  color: var(--sklearn-color-text);\n}\n\n#sk-container-id-6 pre {\n  padding: 0;\n}\n\n#sk-container-id-6 input.sk-hidden--visually {\n  border: 0;\n  clip: rect(1px 1px 1px 1px);\n  clip: rect(1px, 1px, 1px, 1px);\n  height: 1px;\n  margin: -1px;\n  overflow: hidden;\n  padding: 0;\n  position: absolute;\n  width: 1px;\n}\n\n#sk-container-id-6 div.sk-dashed-wrapped {\n  border: 1px dashed var(--sklearn-color-line);\n  margin: 0 0.4em 0.5em 0.4em;\n  box-sizing: border-box;\n  padding-bottom: 0.4em;\n  background-color: var(--sklearn-color-background);\n}\n\n#sk-container-id-6 div.sk-container {\n  /* jupyter's `normalize.less` sets `[hidden] { display: none; }`\n     but bootstrap.min.css set `[hidden] { display: none !important; }`\n     so we also need the `!important` here to be able to override the\n     default hidden behavior on the sphinx rendered scikit-learn.org.\n     See: https://github.com/scikit-learn/scikit-learn/issues/21755 */\n  display: inline-block !important;\n  position: relative;\n}\n\n#sk-container-id-6 div.sk-text-repr-fallback {\n  display: none;\n}\n\ndiv.sk-parallel-item,\ndiv.sk-serial,\ndiv.sk-item {\n  /* draw centered vertical line to link estimators */\n  background-image: linear-gradient(var(--sklearn-color-text-on-default-background), var(--sklearn-color-text-on-default-background));\n  background-size: 2px 100%;\n  background-repeat: no-repeat;\n  background-position: center center;\n}\n\n/* Parallel-specific style estimator block */\n\n#sk-container-id-6 div.sk-parallel-item::after {\n  content: \"\";\n  width: 100%;\n  border-bottom: 2px solid var(--sklearn-color-text-on-default-background);\n  flex-grow: 1;\n}\n\n#sk-container-id-6 div.sk-parallel {\n  display: flex;\n  align-items: stretch;\n  justify-content: center;\n  background-color: var(--sklearn-color-background);\n  position: relative;\n}\n\n#sk-container-id-6 div.sk-parallel-item {\n  display: flex;\n  flex-direction: column;\n}\n\n#sk-container-id-6 div.sk-parallel-item:first-child::after {\n  align-self: flex-end;\n  width: 50%;\n}\n\n#sk-container-id-6 div.sk-parallel-item:last-child::after {\n  align-self: flex-start;\n  width: 50%;\n}\n\n#sk-container-id-6 div.sk-parallel-item:only-child::after {\n  width: 0;\n}\n\n/* Serial-specific style estimator block */\n\n#sk-container-id-6 div.sk-serial {\n  display: flex;\n  flex-direction: column;\n  align-items: center;\n  background-color: var(--sklearn-color-background);\n  padding-right: 1em;\n  padding-left: 1em;\n}\n\n\n/* Toggleable style: style used for estimator/Pipeline/ColumnTransformer box that is\nclickable and can be expanded/collapsed.\n- Pipeline and ColumnTransformer use this feature and define the default style\n- Estimators will overwrite some part of the style using the `sk-estimator` class\n*/\n\n/* Pipeline and ColumnTransformer style (default) */\n\n#sk-container-id-6 div.sk-toggleable {\n  /* Default theme specific background. It is overwritten whether we have a\n  specific estimator or a Pipeline/ColumnTransformer */\n  background-color: var(--sklearn-color-background);\n}\n\n/* Toggleable label */\n#sk-container-id-6 label.sk-toggleable__label {\n  cursor: pointer;\n  display: block;\n  width: 100%;\n  margin-bottom: 0;\n  padding: 0.5em;\n  box-sizing: border-box;\n  text-align: center;\n}\n\n#sk-container-id-6 label.sk-toggleable__label-arrow:before {\n  /* Arrow on the left of the label */\n  content: \"▸\";\n  float: left;\n  margin-right: 0.25em;\n  color: var(--sklearn-color-icon);\n}\n\n#sk-container-id-6 label.sk-toggleable__label-arrow:hover:before {\n  color: var(--sklearn-color-text);\n}\n\n/* Toggleable content - dropdown */\n\n#sk-container-id-6 div.sk-toggleable__content {\n  max-height: 0;\n  max-width: 0;\n  overflow: hidden;\n  text-align: left;\n  /* unfitted */\n  background-color: var(--sklearn-color-unfitted-level-0);\n}\n\n#sk-container-id-6 div.sk-toggleable__content.fitted {\n  /* fitted */\n  background-color: var(--sklearn-color-fitted-level-0);\n}\n\n#sk-container-id-6 div.sk-toggleable__content pre {\n  margin: 0.2em;\n  border-radius: 0.25em;\n  color: var(--sklearn-color-text);\n  /* unfitted */\n  background-color: var(--sklearn-color-unfitted-level-0);\n}\n\n#sk-container-id-6 div.sk-toggleable__content.fitted pre {\n  /* unfitted */\n  background-color: var(--sklearn-color-fitted-level-0);\n}\n\n#sk-container-id-6 input.sk-toggleable__control:checked~div.sk-toggleable__content {\n  /* Expand drop-down */\n  max-height: 200px;\n  max-width: 100%;\n  overflow: auto;\n}\n\n#sk-container-id-6 input.sk-toggleable__control:checked~label.sk-toggleable__label-arrow:before {\n  content: \"▾\";\n}\n\n/* Pipeline/ColumnTransformer-specific style */\n\n#sk-container-id-6 div.sk-label input.sk-toggleable__control:checked~label.sk-toggleable__label {\n  color: var(--sklearn-color-text);\n  background-color: var(--sklearn-color-unfitted-level-2);\n}\n\n#sk-container-id-6 div.sk-label.fitted input.sk-toggleable__control:checked~label.sk-toggleable__label {\n  background-color: var(--sklearn-color-fitted-level-2);\n}\n\n/* Estimator-specific style */\n\n/* Colorize estimator box */\n#sk-container-id-6 div.sk-estimator input.sk-toggleable__control:checked~label.sk-toggleable__label {\n  /* unfitted */\n  background-color: var(--sklearn-color-unfitted-level-2);\n}\n\n#sk-container-id-6 div.sk-estimator.fitted input.sk-toggleable__control:checked~label.sk-toggleable__label {\n  /* fitted */\n  background-color: var(--sklearn-color-fitted-level-2);\n}\n\n#sk-container-id-6 div.sk-label label.sk-toggleable__label,\n#sk-container-id-6 div.sk-label label {\n  /* The background is the default theme color */\n  color: var(--sklearn-color-text-on-default-background);\n}\n\n/* On hover, darken the color of the background */\n#sk-container-id-6 div.sk-label:hover label.sk-toggleable__label {\n  color: var(--sklearn-color-text);\n  background-color: var(--sklearn-color-unfitted-level-2);\n}\n\n/* Label box, darken color on hover, fitted */\n#sk-container-id-6 div.sk-label.fitted:hover label.sk-toggleable__label.fitted {\n  color: var(--sklearn-color-text);\n  background-color: var(--sklearn-color-fitted-level-2);\n}\n\n/* Estimator label */\n\n#sk-container-id-6 div.sk-label label {\n  font-family: monospace;\n  font-weight: bold;\n  display: inline-block;\n  line-height: 1.2em;\n}\n\n#sk-container-id-6 div.sk-label-container {\n  text-align: center;\n}\n\n/* Estimator-specific */\n#sk-container-id-6 div.sk-estimator {\n  font-family: monospace;\n  border: 1px dotted var(--sklearn-color-border-box);\n  border-radius: 0.25em;\n  box-sizing: border-box;\n  margin-bottom: 0.5em;\n  /* unfitted */\n  background-color: var(--sklearn-color-unfitted-level-0);\n}\n\n#sk-container-id-6 div.sk-estimator.fitted {\n  /* fitted */\n  background-color: var(--sklearn-color-fitted-level-0);\n}\n\n/* on hover */\n#sk-container-id-6 div.sk-estimator:hover {\n  /* unfitted */\n  background-color: var(--sklearn-color-unfitted-level-2);\n}\n\n#sk-container-id-6 div.sk-estimator.fitted:hover {\n  /* fitted */\n  background-color: var(--sklearn-color-fitted-level-2);\n}\n\n/* Specification for estimator info (e.g. \"i\" and \"?\") */\n\n/* Common style for \"i\" and \"?\" */\n\n.sk-estimator-doc-link,\na:link.sk-estimator-doc-link,\na:visited.sk-estimator-doc-link {\n  float: right;\n  font-size: smaller;\n  line-height: 1em;\n  font-family: monospace;\n  background-color: var(--sklearn-color-background);\n  border-radius: 1em;\n  height: 1em;\n  width: 1em;\n  text-decoration: none !important;\n  margin-left: 1ex;\n  /* unfitted */\n  border: var(--sklearn-color-unfitted-level-1) 1pt solid;\n  color: var(--sklearn-color-unfitted-level-1);\n}\n\n.sk-estimator-doc-link.fitted,\na:link.sk-estimator-doc-link.fitted,\na:visited.sk-estimator-doc-link.fitted {\n  /* fitted */\n  border: var(--sklearn-color-fitted-level-1) 1pt solid;\n  color: var(--sklearn-color-fitted-level-1);\n}\n\n/* On hover */\ndiv.sk-estimator:hover .sk-estimator-doc-link:hover,\n.sk-estimator-doc-link:hover,\ndiv.sk-label-container:hover .sk-estimator-doc-link:hover,\n.sk-estimator-doc-link:hover {\n  /* unfitted */\n  background-color: var(--sklearn-color-unfitted-level-3);\n  color: var(--sklearn-color-background);\n  text-decoration: none;\n}\n\ndiv.sk-estimator.fitted:hover .sk-estimator-doc-link.fitted:hover,\n.sk-estimator-doc-link.fitted:hover,\ndiv.sk-label-container:hover .sk-estimator-doc-link.fitted:hover,\n.sk-estimator-doc-link.fitted:hover {\n  /* fitted */\n  background-color: var(--sklearn-color-fitted-level-3);\n  color: var(--sklearn-color-background);\n  text-decoration: none;\n}\n\n/* Span, style for the box shown on hovering the info icon */\n.sk-estimator-doc-link span {\n  display: none;\n  z-index: 9999;\n  position: relative;\n  font-weight: normal;\n  right: .2ex;\n  padding: .5ex;\n  margin: .5ex;\n  width: min-content;\n  min-width: 20ex;\n  max-width: 50ex;\n  color: var(--sklearn-color-text);\n  box-shadow: 2pt 2pt 4pt #999;\n  /* unfitted */\n  background: var(--sklearn-color-unfitted-level-0);\n  border: .5pt solid var(--sklearn-color-unfitted-level-3);\n}\n\n.sk-estimator-doc-link.fitted span {\n  /* fitted */\n  background: var(--sklearn-color-fitted-level-0);\n  border: var(--sklearn-color-fitted-level-3);\n}\n\n.sk-estimator-doc-link:hover span {\n  display: block;\n}\n\n/* \"?\"-specific style due to the `<a>` HTML tag */\n\n#sk-container-id-6 a.estimator_doc_link {\n  float: right;\n  font-size: 1rem;\n  line-height: 1em;\n  font-family: monospace;\n  background-color: var(--sklearn-color-background);\n  border-radius: 1rem;\n  height: 1rem;\n  width: 1rem;\n  text-decoration: none;\n  /* unfitted */\n  color: var(--sklearn-color-unfitted-level-1);\n  border: var(--sklearn-color-unfitted-level-1) 1pt solid;\n}\n\n#sk-container-id-6 a.estimator_doc_link.fitted {\n  /* fitted */\n  border: var(--sklearn-color-fitted-level-1) 1pt solid;\n  color: var(--sklearn-color-fitted-level-1);\n}\n\n/* On hover */\n#sk-container-id-6 a.estimator_doc_link:hover {\n  /* unfitted */\n  background-color: var(--sklearn-color-unfitted-level-3);\n  color: var(--sklearn-color-background);\n  text-decoration: none;\n}\n\n#sk-container-id-6 a.estimator_doc_link.fitted:hover {\n  /* fitted */\n  background-color: var(--sklearn-color-fitted-level-3);\n}\n</style><div id=\"sk-container-id-6\" class=\"sk-top-container\"><div class=\"sk-text-repr-fallback\"><pre>DecisionTreeRegressor(max_depth=39, max_features=&#x27;log2&#x27;, min_samples_leaf=3,\n                      min_samples_split=10, random_state=42)</pre><b>In a Jupyter environment, please rerun this cell to show the HTML representation or trust the notebook. <br />On GitHub, the HTML representation is unable to render, please try loading this page with nbviewer.org.</b></div><div class=\"sk-container\" hidden><div class=\"sk-item\"><div class=\"sk-estimator fitted sk-toggleable\"><input class=\"sk-toggleable__control sk-hidden--visually\" id=\"sk-estimator-id-6\" type=\"checkbox\" checked><label for=\"sk-estimator-id-6\" class=\"sk-toggleable__label fitted sk-toggleable__label-arrow fitted\">&nbsp;&nbsp;DecisionTreeRegressor<a class=\"sk-estimator-doc-link fitted\" rel=\"noreferrer\" target=\"_blank\" href=\"https://scikit-learn.org/1.5/modules/generated/sklearn.tree.DecisionTreeRegressor.html\">?<span>Documentation for DecisionTreeRegressor</span></a><span class=\"sk-estimator-doc-link fitted\">i<span>Fitted</span></span></label><div class=\"sk-toggleable__content fitted\"><pre>DecisionTreeRegressor(max_depth=39, max_features=&#x27;log2&#x27;, min_samples_leaf=3,\n                      min_samples_split=10, random_state=42)</pre></div> </div></div></div></div>"
     },
     "execution_count": 143,
     "metadata": {},
     "output_type": "execute_result"
    }
   ],
   "source": [
    "# Train on the full dataset with the best parameters\n",
    "best_model = random_search.best_estimator_\n",
    "best_model.fit(X_train, y_train)\n"
   ],
   "metadata": {
    "collapsed": false,
    "ExecuteTime": {
     "end_time": "2024-10-14T09:03:45.080066300Z",
     "start_time": "2024-10-14T09:03:44.426485700Z"
    }
   }
  },
  {
   "cell_type": "code",
   "execution_count": 144,
   "outputs": [
    {
     "name": "stdout",
     "output_type": "stream",
     "text": [
      "Mean Squared Error: 11270329.719111253\n"
     ]
    }
   ],
   "source": [
    "# Predict on the test set\n",
    "y_pred = best_model.predict(X_test)\n",
    "mse = mean_squared_error(y_test, y_pred)\n",
    "print(f\"Mean Squared Error: {mse}\")\n"
   ],
   "metadata": {
    "collapsed": false,
    "ExecuteTime": {
     "end_time": "2024-10-14T09:03:45.190288100Z",
     "start_time": "2024-10-14T09:03:45.077065600Z"
    }
   }
  },
  {
   "cell_type": "code",
   "execution_count": 145,
   "outputs": [
    {
     "data": {
      "text/plain": "Index(['stops', 'duration', 'days_left', 'price', 'airline_AirAsia',\n       'airline_Air_India', 'airline_GO_FIRST', 'airline_Indigo',\n       'airline_SpiceJet', 'airline_Vistara', 'source_city_Bangalore',\n       'source_city_Chennai', 'source_city_Delhi', 'source_city_Hyderabad',\n       'source_city_Kolkata', 'source_city_Mumbai',\n       'destination_city_Bangalore', 'destination_city_Chennai',\n       'destination_city_Delhi', 'destination_city_Hyderabad',\n       'destination_city_Kolkata', 'destination_city_Mumbai',\n       'departure_time_Afternoon', 'departure_time_Early_Morning',\n       'departure_time_Evening', 'departure_time_Late_Night',\n       'departure_time_Morning', 'departure_time_Night',\n       'arrival_time_Afternoon', 'arrival_time_Early_Morning',\n       'arrival_time_Evening', 'arrival_time_Late_Night',\n       'arrival_time_Morning', 'arrival_time_Night', 'flight_class_Business',\n       'flight_class_Economy'],\n      dtype='object')"
     },
     "execution_count": 145,
     "metadata": {},
     "output_type": "execute_result"
    }
   ],
   "source": [
    "df.columns"
   ],
   "metadata": {
    "collapsed": false,
    "ExecuteTime": {
     "end_time": "2024-10-14T09:03:45.249249700Z",
     "start_time": "2024-10-14T09:03:45.163633700Z"
    }
   }
  },
  {
   "cell_type": "code",
   "execution_count": 146,
   "outputs": [
    {
     "data": {
      "text/plain": "0         0\n1         0\n2         0\n3         0\n4         0\n         ..\n300148    1\n300149    1\n300150    1\n300151    1\n300152    1\nName: stops, Length: 300153, dtype: int64"
     },
     "execution_count": 146,
     "metadata": {},
     "output_type": "execute_result"
    }
   ],
   "source": [
    "df.stops"
   ],
   "metadata": {
    "collapsed": false,
    "ExecuteTime": {
     "end_time": "2024-10-14T09:03:45.332200500Z",
     "start_time": "2024-10-14T09:03:45.230134700Z"
    }
   }
  },
  {
   "cell_type": "code",
   "execution_count": 147,
   "outputs": [
    {
     "data": {
      "text/plain": "0          1\n1          1\n2          1\n3          1\n4          1\n          ..\n300148    49\n300149    49\n300150    49\n300151    49\n300152    49\nName: days_left, Length: 300153, dtype: int64"
     },
     "execution_count": 147,
     "metadata": {},
     "output_type": "execute_result"
    }
   ],
   "source": [
    "df.days_left"
   ],
   "metadata": {
    "collapsed": false,
    "ExecuteTime": {
     "end_time": "2024-10-14T09:03:45.355554900Z",
     "start_time": "2024-10-14T09:03:45.264049100Z"
    }
   }
  },
  {
   "cell_type": "code",
   "execution_count": 148,
   "outputs": [
    {
     "data": {
      "text/plain": "0          2.17\n1          2.33\n2          2.17\n3          2.25\n4          2.33\n          ...  \n300148    10.08\n300149    10.42\n300150    13.83\n300151    10.00\n300152    10.08\nName: duration, Length: 300153, dtype: float64"
     },
     "execution_count": 148,
     "metadata": {},
     "output_type": "execute_result"
    }
   ],
   "source": [
    "df.duration"
   ],
   "metadata": {
    "collapsed": false,
    "ExecuteTime": {
     "end_time": "2024-10-14T09:03:45.356334300Z",
     "start_time": "2024-10-14T09:03:45.288235200Z"
    }
   }
  },
  {
   "cell_type": "code",
   "execution_count": 149,
   "outputs": [
    {
     "name": "stdout",
     "output_type": "stream",
     "text": [
      "['stops' 'duration' 'days_left' 'airline_AirAsia' 'airline_Air_India'\n",
      " 'airline_GO_FIRST' 'airline_Indigo' 'airline_SpiceJet' 'airline_Vistara'\n",
      " 'source_city_Bangalore' 'source_city_Chennai' 'source_city_Delhi'\n",
      " 'source_city_Hyderabad' 'source_city_Kolkata' 'source_city_Mumbai'\n",
      " 'destination_city_Bangalore' 'destination_city_Chennai'\n",
      " 'destination_city_Delhi' 'destination_city_Hyderabad'\n",
      " 'destination_city_Kolkata' 'destination_city_Mumbai'\n",
      " 'departure_time_Afternoon' 'departure_time_Early_Morning'\n",
      " 'departure_time_Evening' 'departure_time_Late_Night'\n",
      " 'departure_time_Morning' 'departure_time_Night' 'arrival_time_Afternoon'\n",
      " 'arrival_time_Early_Morning' 'arrival_time_Evening'\n",
      " 'arrival_time_Late_Night' 'arrival_time_Morning' 'arrival_time_Night'\n",
      " 'flight_class_Business' 'flight_class_Economy']\n"
     ]
    }
   ],
   "source": [
    "print(random_search.feature_names_in_)"
   ],
   "metadata": {
    "collapsed": false,
    "ExecuteTime": {
     "end_time": "2024-10-14T09:03:59.093990700Z",
     "start_time": "2024-10-14T09:03:59.075125600Z"
    }
   }
  },
  {
   "cell_type": "code",
   "execution_count": 150,
   "outputs": [
    {
     "name": "stdout",
     "output_type": "stream",
     "text": [
      "Cross-validated MSE: 54585730.60601429\n"
     ]
    }
   ],
   "source": [
    "from sklearn.model_selection import cross_val_score\n",
    "\n",
    "cv_scores = cross_val_score(model, X, y, cv=5, scoring='neg_mean_squared_error')\n",
    "print(f\"Cross-validated MSE: {-cv_scores.mean()}\")"
   ],
   "metadata": {
    "collapsed": false,
    "ExecuteTime": {
     "end_time": "2024-10-14T09:04:16.337026200Z",
     "start_time": "2024-10-14T09:04:04.089359500Z"
    }
   }
  },
  {
   "cell_type": "code",
   "execution_count": 153,
   "outputs": [
    {
     "name": "stdout",
     "output_type": "stream",
     "text": [
      "Predicted Price: [35666.00858369]\n"
     ]
    }
   ],
   "source": [
    "import joblib\n",
    "new_data = pd.DataFrame([{\n",
    "    'stops': 0,\n",
    "    'duration': 2.17,  # In minutes\n",
    "    'days_left': 1,\n",
    "    'airline_AirAsia': 0,\n",
    "    'airline_Air_India': 0,\n",
    "    'airline_GO_FIRST': 0,\n",
    "    'airline_Indigo': 0,\n",
    "    'airline_SpiceJet': 1,  # SpiceJet is the selected airline\n",
    "    'airline_Vistara': 0,\n",
    "    'source_city_Bangalore': 0,\n",
    "    'source_city_Chennai': 0,\n",
    "    'source_city_Delhi': 1,\n",
    "    'source_city_Hyderabad': 0,\n",
    "    'source_city_Kolkata': 0,  # Kolkata is the source city\n",
    "    'source_city_Mumbai': 0,\n",
    "    'destination_city_Bangalore': 0,\n",
    "    'destination_city_Chennai': 0,  # Chennai is the destination city\n",
    "    'destination_city_Delhi': 0,\n",
    "    'destination_city_Hyderabad': 0,\n",
    "    'destination_city_Kolkata': 0,\n",
    "    'destination_city_Mumbai': 1,\n",
    "    'departure_time_Afternoon': 0,\n",
    "    'departure_time_Early_Morning': 0,\n",
    "    'departure_time_Evening': 1,\n",
    "    'departure_time_Late_Night': 0,\n",
    "    'departure_time_Morning': 0,  # Morning is the departure time\n",
    "    'departure_time_Night': 0,\n",
    "    'arrival_time_Afternoon':0,\n",
    "    'arrival_time_Early_Morning':0,\n",
    "    'arrival_time_Evening':0,\n",
    "    'arrival_time_Late_Night':0,\n",
    "    'arrival_time_Morning':0,\n",
    "    'arrival_time_Night':1,\n",
    "    'flight_class_Business': 1,\n",
    "    'flight_class_Economy': 0,\n",
    "    # Late Night is the arrival time\n",
    "}])\n",
    "\n",
    "# Load the model\n",
    "joblib.dump(best_model,\"final_model.pkl\")\n",
    "loaded_model = joblib.load('final_model.pkl')\n",
    "\n",
    "# Predict\n",
    "predictions = loaded_model.predict(new_data)\n",
    "print(f\"Predicted Price: {predictions}\")"
   ],
   "metadata": {
    "collapsed": false,
    "ExecuteTime": {
     "end_time": "2024-10-14T09:24:11.306006100Z",
     "start_time": "2024-10-14T09:24:11.234071800Z"
    }
   }
  },
  {
   "cell_type": "code",
   "execution_count": 47,
   "outputs": [],
   "source": [],
   "metadata": {
    "collapsed": false,
    "ExecuteTime": {
     "end_time": "2024-10-11T09:47:37.428413500Z",
     "start_time": "2024-10-11T09:47:37.413312100Z"
    }
   }
  },
  {
   "cell_type": "code",
   "execution_count": null,
   "outputs": [],
   "source": [],
   "metadata": {
    "collapsed": false
   }
  }
 ],
 "metadata": {
  "kernelspec": {
   "display_name": "Python 3",
   "language": "python",
   "name": "python3"
  },
  "language_info": {
   "codemirror_mode": {
    "name": "ipython",
    "version": 2
   },
   "file_extension": ".py",
   "mimetype": "text/x-python",
   "name": "python",
   "nbconvert_exporter": "python",
   "pygments_lexer": "ipython2",
   "version": "2.7.6"
  }
 },
 "nbformat": 4,
 "nbformat_minor": 0
}
